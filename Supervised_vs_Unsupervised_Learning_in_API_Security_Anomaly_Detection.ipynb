{
  "nbformat": 4,
  "nbformat_minor": 0,
  "metadata": {
    "colab": {
      "provenance": [],
      "collapsed_sections": [],
      "authorship_tag": "ABX9TyP/f6bRk26rkl7UxjifYKhH",
      "include_colab_link": true
    },
    "kernelspec": {
      "name": "python3",
      "display_name": "Python 3"
    },
    "language_info": {
      "name": "python"
    }
  },
  "cells": [
    {
      "cell_type": "markdown",
      "metadata": {
        "id": "view-in-github",
        "colab_type": "text"
      },
      "source": [
        "<a href=\"https://colab.research.google.com/github/gregh13/Exploring-Supervised-vs-Unsupervised-Learning-ML-TensorFlow/blob/main/Supervised_vs_Unsupervised_Learning_in_API_Security_Anomaly_Detection.ipynb\" target=\"_parent\"><img src=\"https://colab.research.google.com/assets/colab-badge.svg\" alt=\"Open In Colab\"/></a>"
      ]
    },
    {
      "cell_type": "code",
      "execution_count": null,
      "metadata": {
        "id": "l3VmtmKkkU78"
      },
      "outputs": [],
      "source": [
        "import numpy as np\n",
        "import pandas as pd\n",
        "import matplotlib.pyplot as plt\n",
        "from sklearn.model_selection import train_test_split\n",
        "import tensorflow as tf\n",
        "from tensorflow.keras.models import Sequential\n",
        "from tensorflow.keras.layers import Dense\n",
        "from tensorflow.keras.activations import relu,linear\n",
        "from tensorflow.keras.losses import BinaryCrossentropy\n",
        "from tensorflow.keras.optimizers import Adam\n",
        "import tensorflow_probability as tfp\n",
        "import scipy.stats as stats\n",
        "import seaborn as sns\n",
        "\n"
      ]
    },
    {
      "cell_type": "code",
      "source": [
        "df_raw = pd.read_csv(\"supervised_dataset.csv\")"
      ],
      "metadata": {
        "id": "klKFkxF_U_hw"
      },
      "execution_count": null,
      "outputs": []
    },
    {
      "cell_type": "code",
      "source": [
        "df_raw.head(5)"
      ],
      "metadata": {
        "colab": {
          "base_uri": "https://localhost:8080/",
          "height": 548
        },
        "id": "yTTagZaHU_66",
        "outputId": "b3f685b5-ce3d-48c8-82a4-1ddf87ac8c50"
      },
      "execution_count": null,
      "outputs": [
        {
          "output_type": "execute_result",
          "data": {
            "text/plain": [
              "   Unnamed: 0                                   _id  \\\n",
              "0           0  1f2c32d8-2d6e-3b68-bc46-789469f2b71e   \n",
              "1           1  4c486414-d4f5-33f6-b485-24a8ed2925e8   \n",
              "2           2  7e5838fc-bce1-371f-a3ac-d8a0b2a05d9a   \n",
              "3           3  82661ecd-d87f-3dff-855e-378f7cb6d912   \n",
              "4           4  d62d56ea-775e-328c-8b08-db7ad7f834e5   \n",
              "\n",
              "   inter_api_access_duration(sec)  api_access_uniqueness  \\\n",
              "0                        0.000812               0.004066   \n",
              "1                        0.000063               0.002211   \n",
              "2                        0.004481               0.015324   \n",
              "3                        0.017837               0.014974   \n",
              "4                        0.000797               0.006056   \n",
              "\n",
              "   sequence_length(count)  vsession_duration(min)  ip_type  num_sessions  \\\n",
              "0               85.643243                    5405  default        1460.0   \n",
              "1               16.166805                     519  default        9299.0   \n",
              "2               99.573276                    6211  default         255.0   \n",
              "3               69.792793                    8292  default         195.0   \n",
              "4               14.952756                     182  default         272.0   \n",
              "\n",
              "   num_users  num_unique_apis source classification  \n",
              "0     1295.0            451.0      E         normal  \n",
              "1     8447.0            302.0      E         normal  \n",
              "2      232.0            354.0      E         normal  \n",
              "3      111.0            116.0      E         normal  \n",
              "4      254.0             23.0      E         normal  "
            ],
            "text/html": [
              "\n",
              "  <div id=\"df-661daebd-c74f-489c-8b7a-1844f8e0516a\">\n",
              "    <div class=\"colab-df-container\">\n",
              "      <div>\n",
              "<style scoped>\n",
              "    .dataframe tbody tr th:only-of-type {\n",
              "        vertical-align: middle;\n",
              "    }\n",
              "\n",
              "    .dataframe tbody tr th {\n",
              "        vertical-align: top;\n",
              "    }\n",
              "\n",
              "    .dataframe thead th {\n",
              "        text-align: right;\n",
              "    }\n",
              "</style>\n",
              "<table border=\"1\" class=\"dataframe\">\n",
              "  <thead>\n",
              "    <tr style=\"text-align: right;\">\n",
              "      <th></th>\n",
              "      <th>Unnamed: 0</th>\n",
              "      <th>_id</th>\n",
              "      <th>inter_api_access_duration(sec)</th>\n",
              "      <th>api_access_uniqueness</th>\n",
              "      <th>sequence_length(count)</th>\n",
              "      <th>vsession_duration(min)</th>\n",
              "      <th>ip_type</th>\n",
              "      <th>num_sessions</th>\n",
              "      <th>num_users</th>\n",
              "      <th>num_unique_apis</th>\n",
              "      <th>source</th>\n",
              "      <th>classification</th>\n",
              "    </tr>\n",
              "  </thead>\n",
              "  <tbody>\n",
              "    <tr>\n",
              "      <th>0</th>\n",
              "      <td>0</td>\n",
              "      <td>1f2c32d8-2d6e-3b68-bc46-789469f2b71e</td>\n",
              "      <td>0.000812</td>\n",
              "      <td>0.004066</td>\n",
              "      <td>85.643243</td>\n",
              "      <td>5405</td>\n",
              "      <td>default</td>\n",
              "      <td>1460.0</td>\n",
              "      <td>1295.0</td>\n",
              "      <td>451.0</td>\n",
              "      <td>E</td>\n",
              "      <td>normal</td>\n",
              "    </tr>\n",
              "    <tr>\n",
              "      <th>1</th>\n",
              "      <td>1</td>\n",
              "      <td>4c486414-d4f5-33f6-b485-24a8ed2925e8</td>\n",
              "      <td>0.000063</td>\n",
              "      <td>0.002211</td>\n",
              "      <td>16.166805</td>\n",
              "      <td>519</td>\n",
              "      <td>default</td>\n",
              "      <td>9299.0</td>\n",
              "      <td>8447.0</td>\n",
              "      <td>302.0</td>\n",
              "      <td>E</td>\n",
              "      <td>normal</td>\n",
              "    </tr>\n",
              "    <tr>\n",
              "      <th>2</th>\n",
              "      <td>2</td>\n",
              "      <td>7e5838fc-bce1-371f-a3ac-d8a0b2a05d9a</td>\n",
              "      <td>0.004481</td>\n",
              "      <td>0.015324</td>\n",
              "      <td>99.573276</td>\n",
              "      <td>6211</td>\n",
              "      <td>default</td>\n",
              "      <td>255.0</td>\n",
              "      <td>232.0</td>\n",
              "      <td>354.0</td>\n",
              "      <td>E</td>\n",
              "      <td>normal</td>\n",
              "    </tr>\n",
              "    <tr>\n",
              "      <th>3</th>\n",
              "      <td>3</td>\n",
              "      <td>82661ecd-d87f-3dff-855e-378f7cb6d912</td>\n",
              "      <td>0.017837</td>\n",
              "      <td>0.014974</td>\n",
              "      <td>69.792793</td>\n",
              "      <td>8292</td>\n",
              "      <td>default</td>\n",
              "      <td>195.0</td>\n",
              "      <td>111.0</td>\n",
              "      <td>116.0</td>\n",
              "      <td>E</td>\n",
              "      <td>normal</td>\n",
              "    </tr>\n",
              "    <tr>\n",
              "      <th>4</th>\n",
              "      <td>4</td>\n",
              "      <td>d62d56ea-775e-328c-8b08-db7ad7f834e5</td>\n",
              "      <td>0.000797</td>\n",
              "      <td>0.006056</td>\n",
              "      <td>14.952756</td>\n",
              "      <td>182</td>\n",
              "      <td>default</td>\n",
              "      <td>272.0</td>\n",
              "      <td>254.0</td>\n",
              "      <td>23.0</td>\n",
              "      <td>E</td>\n",
              "      <td>normal</td>\n",
              "    </tr>\n",
              "  </tbody>\n",
              "</table>\n",
              "</div>\n",
              "      <button class=\"colab-df-convert\" onclick=\"convertToInteractive('df-661daebd-c74f-489c-8b7a-1844f8e0516a')\"\n",
              "              title=\"Convert this dataframe to an interactive table.\"\n",
              "              style=\"display:none;\">\n",
              "        \n",
              "  <svg xmlns=\"http://www.w3.org/2000/svg\" height=\"24px\"viewBox=\"0 0 24 24\"\n",
              "       width=\"24px\">\n",
              "    <path d=\"M0 0h24v24H0V0z\" fill=\"none\"/>\n",
              "    <path d=\"M18.56 5.44l.94 2.06.94-2.06 2.06-.94-2.06-.94-.94-2.06-.94 2.06-2.06.94zm-11 1L8.5 8.5l.94-2.06 2.06-.94-2.06-.94L8.5 2.5l-.94 2.06-2.06.94zm10 10l.94 2.06.94-2.06 2.06-.94-2.06-.94-.94-2.06-.94 2.06-2.06.94z\"/><path d=\"M17.41 7.96l-1.37-1.37c-.4-.4-.92-.59-1.43-.59-.52 0-1.04.2-1.43.59L10.3 9.45l-7.72 7.72c-.78.78-.78 2.05 0 2.83L4 21.41c.39.39.9.59 1.41.59.51 0 1.02-.2 1.41-.59l7.78-7.78 2.81-2.81c.8-.78.8-2.07 0-2.86zM5.41 20L4 18.59l7.72-7.72 1.47 1.35L5.41 20z\"/>\n",
              "  </svg>\n",
              "      </button>\n",
              "      \n",
              "  <style>\n",
              "    .colab-df-container {\n",
              "      display:flex;\n",
              "      flex-wrap:wrap;\n",
              "      gap: 12px;\n",
              "    }\n",
              "\n",
              "    .colab-df-convert {\n",
              "      background-color: #E8F0FE;\n",
              "      border: none;\n",
              "      border-radius: 50%;\n",
              "      cursor: pointer;\n",
              "      display: none;\n",
              "      fill: #1967D2;\n",
              "      height: 32px;\n",
              "      padding: 0 0 0 0;\n",
              "      width: 32px;\n",
              "    }\n",
              "\n",
              "    .colab-df-convert:hover {\n",
              "      background-color: #E2EBFA;\n",
              "      box-shadow: 0px 1px 2px rgba(60, 64, 67, 0.3), 0px 1px 3px 1px rgba(60, 64, 67, 0.15);\n",
              "      fill: #174EA6;\n",
              "    }\n",
              "\n",
              "    [theme=dark] .colab-df-convert {\n",
              "      background-color: #3B4455;\n",
              "      fill: #D2E3FC;\n",
              "    }\n",
              "\n",
              "    [theme=dark] .colab-df-convert:hover {\n",
              "      background-color: #434B5C;\n",
              "      box-shadow: 0px 1px 3px 1px rgba(0, 0, 0, 0.15);\n",
              "      filter: drop-shadow(0px 1px 2px rgba(0, 0, 0, 0.3));\n",
              "      fill: #FFFFFF;\n",
              "    }\n",
              "  </style>\n",
              "\n",
              "      <script>\n",
              "        const buttonEl =\n",
              "          document.querySelector('#df-661daebd-c74f-489c-8b7a-1844f8e0516a button.colab-df-convert');\n",
              "        buttonEl.style.display =\n",
              "          google.colab.kernel.accessAllowed ? 'block' : 'none';\n",
              "\n",
              "        async function convertToInteractive(key) {\n",
              "          const element = document.querySelector('#df-661daebd-c74f-489c-8b7a-1844f8e0516a');\n",
              "          const dataTable =\n",
              "            await google.colab.kernel.invokeFunction('convertToInteractive',\n",
              "                                                     [key], {});\n",
              "          if (!dataTable) return;\n",
              "\n",
              "          const docLinkHtml = 'Like what you see? Visit the ' +\n",
              "            '<a target=\"_blank\" href=https://colab.research.google.com/notebooks/data_table.ipynb>data table notebook</a>'\n",
              "            + ' to learn more about interactive tables.';\n",
              "          element.innerHTML = '';\n",
              "          dataTable['output_type'] = 'display_data';\n",
              "          await google.colab.output.renderOutput(dataTable, element);\n",
              "          const docLink = document.createElement('div');\n",
              "          docLink.innerHTML = docLinkHtml;\n",
              "          element.appendChild(docLink);\n",
              "        }\n",
              "      </script>\n",
              "    </div>\n",
              "  </div>\n",
              "  "
            ]
          },
          "metadata": {},
          "execution_count": 93
        }
      ]
    },
    {
      "cell_type": "code",
      "source": [
        "df_raw.info()"
      ],
      "metadata": {
        "colab": {
          "base_uri": "https://localhost:8080/"
        },
        "id": "TM47w6-bVACR",
        "outputId": "e4c78c86-6aa6-4c8c-d0a2-2926be60c7fe"
      },
      "execution_count": null,
      "outputs": [
        {
          "output_type": "stream",
          "name": "stdout",
          "text": [
            "<class 'pandas.core.frame.DataFrame'>\n",
            "RangeIndex: 1699 entries, 0 to 1698\n",
            "Data columns (total 12 columns):\n",
            " #   Column                          Non-Null Count  Dtype  \n",
            "---  ------                          --------------  -----  \n",
            " 0   Unnamed: 0                      1699 non-null   int64  \n",
            " 1   _id                             1699 non-null   object \n",
            " 2   inter_api_access_duration(sec)  1695 non-null   float64\n",
            " 3   api_access_uniqueness           1695 non-null   float64\n",
            " 4   sequence_length(count)          1699 non-null   float64\n",
            " 5   vsession_duration(min)          1699 non-null   int64  \n",
            " 6   ip_type                         1699 non-null   object \n",
            " 7   num_sessions                    1699 non-null   float64\n",
            " 8   num_users                       1699 non-null   float64\n",
            " 9   num_unique_apis                 1699 non-null   float64\n",
            " 10  source                          1699 non-null   object \n",
            " 11  classification                  1699 non-null   object \n",
            "dtypes: float64(6), int64(2), object(4)\n",
            "memory usage: 159.4+ KB\n"
          ]
        }
      ]
    },
    {
      "cell_type": "code",
      "source": [
        "df_raw.describe()"
      ],
      "metadata": {
        "colab": {
          "base_uri": "https://localhost:8080/",
          "height": 382
        },
        "id": "8bqmQx2OVAG4",
        "outputId": "80767a9d-04f2-483d-bd32-9bcec30474d4"
      },
      "execution_count": null,
      "outputs": [
        {
          "output_type": "execute_result",
          "data": {
            "text/plain": [
              "       Unnamed: 0  inter_api_access_duration(sec)  api_access_uniqueness  \\\n",
              "count  1699.00000                     1695.000000            1695.000000   \n",
              "mean    849.00000                        1.501123               0.173226   \n",
              "std     490.60337                       21.697558               0.283641   \n",
              "min       0.00000                        0.000003               0.001200   \n",
              "25%     424.50000                        0.000707               0.009199   \n",
              "50%     849.00000                        0.002574               0.018717   \n",
              "75%    1273.50000                        0.024579               0.230769   \n",
              "max    1698.00000                      852.929250               1.000000   \n",
              "\n",
              "       sequence_length(count)  vsession_duration(min)  num_sessions  \\\n",
              "count             1699.000000            1.699000e+03   1699.000000   \n",
              "mean                61.648982            6.028341e+03    564.726898   \n",
              "std                205.803273            4.665042e+04   1179.931200   \n",
              "min                  0.000000            1.000000e+00      2.000000   \n",
              "25%                  9.984756            6.300000e+01      5.000000   \n",
              "50%                 17.095238            1.950000e+02    164.000000   \n",
              "75%                 41.349478            3.711500e+03    446.500000   \n",
              "max               3303.000000            1.352948e+06   9299.000000   \n",
              "\n",
              "         num_users  num_unique_apis  \n",
              "count  1699.000000      1699.000000  \n",
              "mean    406.263685        67.246616  \n",
              "std     960.718580        82.189214  \n",
              "min       1.000000         0.000000  \n",
              "25%       1.000000        14.000000  \n",
              "50%     141.000000        37.000000  \n",
              "75%     308.500000        90.000000  \n",
              "max    8447.000000       524.000000  "
            ],
            "text/html": [
              "\n",
              "  <div id=\"df-809b23ca-14f7-4c66-9d5a-50a91d103bcd\">\n",
              "    <div class=\"colab-df-container\">\n",
              "      <div>\n",
              "<style scoped>\n",
              "    .dataframe tbody tr th:only-of-type {\n",
              "        vertical-align: middle;\n",
              "    }\n",
              "\n",
              "    .dataframe tbody tr th {\n",
              "        vertical-align: top;\n",
              "    }\n",
              "\n",
              "    .dataframe thead th {\n",
              "        text-align: right;\n",
              "    }\n",
              "</style>\n",
              "<table border=\"1\" class=\"dataframe\">\n",
              "  <thead>\n",
              "    <tr style=\"text-align: right;\">\n",
              "      <th></th>\n",
              "      <th>Unnamed: 0</th>\n",
              "      <th>inter_api_access_duration(sec)</th>\n",
              "      <th>api_access_uniqueness</th>\n",
              "      <th>sequence_length(count)</th>\n",
              "      <th>vsession_duration(min)</th>\n",
              "      <th>num_sessions</th>\n",
              "      <th>num_users</th>\n",
              "      <th>num_unique_apis</th>\n",
              "    </tr>\n",
              "  </thead>\n",
              "  <tbody>\n",
              "    <tr>\n",
              "      <th>count</th>\n",
              "      <td>1699.00000</td>\n",
              "      <td>1695.000000</td>\n",
              "      <td>1695.000000</td>\n",
              "      <td>1699.000000</td>\n",
              "      <td>1.699000e+03</td>\n",
              "      <td>1699.000000</td>\n",
              "      <td>1699.000000</td>\n",
              "      <td>1699.000000</td>\n",
              "    </tr>\n",
              "    <tr>\n",
              "      <th>mean</th>\n",
              "      <td>849.00000</td>\n",
              "      <td>1.501123</td>\n",
              "      <td>0.173226</td>\n",
              "      <td>61.648982</td>\n",
              "      <td>6.028341e+03</td>\n",
              "      <td>564.726898</td>\n",
              "      <td>406.263685</td>\n",
              "      <td>67.246616</td>\n",
              "    </tr>\n",
              "    <tr>\n",
              "      <th>std</th>\n",
              "      <td>490.60337</td>\n",
              "      <td>21.697558</td>\n",
              "      <td>0.283641</td>\n",
              "      <td>205.803273</td>\n",
              "      <td>4.665042e+04</td>\n",
              "      <td>1179.931200</td>\n",
              "      <td>960.718580</td>\n",
              "      <td>82.189214</td>\n",
              "    </tr>\n",
              "    <tr>\n",
              "      <th>min</th>\n",
              "      <td>0.00000</td>\n",
              "      <td>0.000003</td>\n",
              "      <td>0.001200</td>\n",
              "      <td>0.000000</td>\n",
              "      <td>1.000000e+00</td>\n",
              "      <td>2.000000</td>\n",
              "      <td>1.000000</td>\n",
              "      <td>0.000000</td>\n",
              "    </tr>\n",
              "    <tr>\n",
              "      <th>25%</th>\n",
              "      <td>424.50000</td>\n",
              "      <td>0.000707</td>\n",
              "      <td>0.009199</td>\n",
              "      <td>9.984756</td>\n",
              "      <td>6.300000e+01</td>\n",
              "      <td>5.000000</td>\n",
              "      <td>1.000000</td>\n",
              "      <td>14.000000</td>\n",
              "    </tr>\n",
              "    <tr>\n",
              "      <th>50%</th>\n",
              "      <td>849.00000</td>\n",
              "      <td>0.002574</td>\n",
              "      <td>0.018717</td>\n",
              "      <td>17.095238</td>\n",
              "      <td>1.950000e+02</td>\n",
              "      <td>164.000000</td>\n",
              "      <td>141.000000</td>\n",
              "      <td>37.000000</td>\n",
              "    </tr>\n",
              "    <tr>\n",
              "      <th>75%</th>\n",
              "      <td>1273.50000</td>\n",
              "      <td>0.024579</td>\n",
              "      <td>0.230769</td>\n",
              "      <td>41.349478</td>\n",
              "      <td>3.711500e+03</td>\n",
              "      <td>446.500000</td>\n",
              "      <td>308.500000</td>\n",
              "      <td>90.000000</td>\n",
              "    </tr>\n",
              "    <tr>\n",
              "      <th>max</th>\n",
              "      <td>1698.00000</td>\n",
              "      <td>852.929250</td>\n",
              "      <td>1.000000</td>\n",
              "      <td>3303.000000</td>\n",
              "      <td>1.352948e+06</td>\n",
              "      <td>9299.000000</td>\n",
              "      <td>8447.000000</td>\n",
              "      <td>524.000000</td>\n",
              "    </tr>\n",
              "  </tbody>\n",
              "</table>\n",
              "</div>\n",
              "      <button class=\"colab-df-convert\" onclick=\"convertToInteractive('df-809b23ca-14f7-4c66-9d5a-50a91d103bcd')\"\n",
              "              title=\"Convert this dataframe to an interactive table.\"\n",
              "              style=\"display:none;\">\n",
              "        \n",
              "  <svg xmlns=\"http://www.w3.org/2000/svg\" height=\"24px\"viewBox=\"0 0 24 24\"\n",
              "       width=\"24px\">\n",
              "    <path d=\"M0 0h24v24H0V0z\" fill=\"none\"/>\n",
              "    <path d=\"M18.56 5.44l.94 2.06.94-2.06 2.06-.94-2.06-.94-.94-2.06-.94 2.06-2.06.94zm-11 1L8.5 8.5l.94-2.06 2.06-.94-2.06-.94L8.5 2.5l-.94 2.06-2.06.94zm10 10l.94 2.06.94-2.06 2.06-.94-2.06-.94-.94-2.06-.94 2.06-2.06.94z\"/><path d=\"M17.41 7.96l-1.37-1.37c-.4-.4-.92-.59-1.43-.59-.52 0-1.04.2-1.43.59L10.3 9.45l-7.72 7.72c-.78.78-.78 2.05 0 2.83L4 21.41c.39.39.9.59 1.41.59.51 0 1.02-.2 1.41-.59l7.78-7.78 2.81-2.81c.8-.78.8-2.07 0-2.86zM5.41 20L4 18.59l7.72-7.72 1.47 1.35L5.41 20z\"/>\n",
              "  </svg>\n",
              "      </button>\n",
              "      \n",
              "  <style>\n",
              "    .colab-df-container {\n",
              "      display:flex;\n",
              "      flex-wrap:wrap;\n",
              "      gap: 12px;\n",
              "    }\n",
              "\n",
              "    .colab-df-convert {\n",
              "      background-color: #E8F0FE;\n",
              "      border: none;\n",
              "      border-radius: 50%;\n",
              "      cursor: pointer;\n",
              "      display: none;\n",
              "      fill: #1967D2;\n",
              "      height: 32px;\n",
              "      padding: 0 0 0 0;\n",
              "      width: 32px;\n",
              "    }\n",
              "\n",
              "    .colab-df-convert:hover {\n",
              "      background-color: #E2EBFA;\n",
              "      box-shadow: 0px 1px 2px rgba(60, 64, 67, 0.3), 0px 1px 3px 1px rgba(60, 64, 67, 0.15);\n",
              "      fill: #174EA6;\n",
              "    }\n",
              "\n",
              "    [theme=dark] .colab-df-convert {\n",
              "      background-color: #3B4455;\n",
              "      fill: #D2E3FC;\n",
              "    }\n",
              "\n",
              "    [theme=dark] .colab-df-convert:hover {\n",
              "      background-color: #434B5C;\n",
              "      box-shadow: 0px 1px 3px 1px rgba(0, 0, 0, 0.15);\n",
              "      filter: drop-shadow(0px 1px 2px rgba(0, 0, 0, 0.3));\n",
              "      fill: #FFFFFF;\n",
              "    }\n",
              "  </style>\n",
              "\n",
              "      <script>\n",
              "        const buttonEl =\n",
              "          document.querySelector('#df-809b23ca-14f7-4c66-9d5a-50a91d103bcd button.colab-df-convert');\n",
              "        buttonEl.style.display =\n",
              "          google.colab.kernel.accessAllowed ? 'block' : 'none';\n",
              "\n",
              "        async function convertToInteractive(key) {\n",
              "          const element = document.querySelector('#df-809b23ca-14f7-4c66-9d5a-50a91d103bcd');\n",
              "          const dataTable =\n",
              "            await google.colab.kernel.invokeFunction('convertToInteractive',\n",
              "                                                     [key], {});\n",
              "          if (!dataTable) return;\n",
              "\n",
              "          const docLinkHtml = 'Like what you see? Visit the ' +\n",
              "            '<a target=\"_blank\" href=https://colab.research.google.com/notebooks/data_table.ipynb>data table notebook</a>'\n",
              "            + ' to learn more about interactive tables.';\n",
              "          element.innerHTML = '';\n",
              "          dataTable['output_type'] = 'display_data';\n",
              "          await google.colab.output.renderOutput(dataTable, element);\n",
              "          const docLink = document.createElement('div');\n",
              "          docLink.innerHTML = docLinkHtml;\n",
              "          element.appendChild(docLink);\n",
              "        }\n",
              "      </script>\n",
              "    </div>\n",
              "  </div>\n",
              "  "
            ]
          },
          "metadata": {},
          "execution_count": 95
        }
      ]
    },
    {
      "cell_type": "code",
      "source": [
        "df_raw.duplicated().values.any()"
      ],
      "metadata": {
        "colab": {
          "base_uri": "https://localhost:8080/"
        },
        "id": "6XOD3YN6VAJn",
        "outputId": "460c07e4-19e6-42fe-fd97-ad0c3618082a"
      },
      "execution_count": null,
      "outputs": [
        {
          "output_type": "execute_result",
          "data": {
            "text/plain": [
              "False"
            ]
          },
          "metadata": {},
          "execution_count": 96
        }
      ]
    },
    {
      "cell_type": "code",
      "source": [
        "df_raw.isna().values.any()"
      ],
      "metadata": {
        "colab": {
          "base_uri": "https://localhost:8080/"
        },
        "id": "pM1pq4-6VAMc",
        "outputId": "d453ff74-d8b9-403a-b67b-8e6d6f3073ed"
      },
      "execution_count": null,
      "outputs": [
        {
          "output_type": "execute_result",
          "data": {
            "text/plain": [
              "True"
            ]
          },
          "metadata": {},
          "execution_count": 97
        }
      ]
    },
    {
      "cell_type": "code",
      "source": [
        "nan_rows = df_raw[df_raw.isna().values == True]\n",
        "nan_rows.head(10)"
      ],
      "metadata": {
        "colab": {
          "base_uri": "https://localhost:8080/",
          "height": 798
        },
        "id": "TeMrn8HdVAO6",
        "outputId": "dd9ca7ca-ef3c-4961-fe75-d79f4551f7be"
      },
      "execution_count": null,
      "outputs": [
        {
          "output_type": "execute_result",
          "data": {
            "text/plain": [
              "      Unnamed: 0                                   _id  \\\n",
              "1556        1556  8e8b99bb-7b6d-3437-9abc-1d884fe023d0   \n",
              "1556        1556  8e8b99bb-7b6d-3437-9abc-1d884fe023d0   \n",
              "1567        1567  bedfd600-80ef-3e95-8667-fa0d9a905d72   \n",
              "1567        1567  bedfd600-80ef-3e95-8667-fa0d9a905d72   \n",
              "1619        1619  60a25ad0-add8-3976-bc51-a7ff6779d5dc   \n",
              "1619        1619  60a25ad0-add8-3976-bc51-a7ff6779d5dc   \n",
              "1647        1647  70b6a9dd-e4c6-36a0-908d-2311c277b5e8   \n",
              "1647        1647  70b6a9dd-e4c6-36a0-908d-2311c277b5e8   \n",
              "\n",
              "      inter_api_access_duration(sec)  api_access_uniqueness  \\\n",
              "1556                             NaN                    NaN   \n",
              "1556                             NaN                    NaN   \n",
              "1567                             NaN                    NaN   \n",
              "1567                             NaN                    NaN   \n",
              "1619                             NaN                    NaN   \n",
              "1619                             NaN                    NaN   \n",
              "1647                             NaN                    NaN   \n",
              "1647                             NaN                    NaN   \n",
              "\n",
              "      sequence_length(count)  vsession_duration(min)     ip_type  \\\n",
              "1556                     0.0                       3  datacenter   \n",
              "1556                     0.0                       3  datacenter   \n",
              "1567                     0.0                       3  datacenter   \n",
              "1567                     0.0                       3  datacenter   \n",
              "1619                     0.0                       3  datacenter   \n",
              "1619                     0.0                       3  datacenter   \n",
              "1647                     0.0                       3  datacenter   \n",
              "1647                     0.0                       3  datacenter   \n",
              "\n",
              "      num_sessions  num_users  num_unique_apis source classification  \n",
              "1556           2.0        1.0              0.0      E        outlier  \n",
              "1556           2.0        1.0              0.0      E        outlier  \n",
              "1567           4.0        1.0              0.0      E        outlier  \n",
              "1567           4.0        1.0              0.0      E        outlier  \n",
              "1619           2.0        1.0              0.0      E        outlier  \n",
              "1619           2.0        1.0              0.0      E        outlier  \n",
              "1647           4.0        1.0              0.0      E        outlier  \n",
              "1647           4.0        1.0              0.0      E        outlier  "
            ],
            "text/html": [
              "\n",
              "  <div id=\"df-6e0b3160-af53-45eb-9880-b6466603bb1d\">\n",
              "    <div class=\"colab-df-container\">\n",
              "      <div>\n",
              "<style scoped>\n",
              "    .dataframe tbody tr th:only-of-type {\n",
              "        vertical-align: middle;\n",
              "    }\n",
              "\n",
              "    .dataframe tbody tr th {\n",
              "        vertical-align: top;\n",
              "    }\n",
              "\n",
              "    .dataframe thead th {\n",
              "        text-align: right;\n",
              "    }\n",
              "</style>\n",
              "<table border=\"1\" class=\"dataframe\">\n",
              "  <thead>\n",
              "    <tr style=\"text-align: right;\">\n",
              "      <th></th>\n",
              "      <th>Unnamed: 0</th>\n",
              "      <th>_id</th>\n",
              "      <th>inter_api_access_duration(sec)</th>\n",
              "      <th>api_access_uniqueness</th>\n",
              "      <th>sequence_length(count)</th>\n",
              "      <th>vsession_duration(min)</th>\n",
              "      <th>ip_type</th>\n",
              "      <th>num_sessions</th>\n",
              "      <th>num_users</th>\n",
              "      <th>num_unique_apis</th>\n",
              "      <th>source</th>\n",
              "      <th>classification</th>\n",
              "    </tr>\n",
              "  </thead>\n",
              "  <tbody>\n",
              "    <tr>\n",
              "      <th>1556</th>\n",
              "      <td>1556</td>\n",
              "      <td>8e8b99bb-7b6d-3437-9abc-1d884fe023d0</td>\n",
              "      <td>NaN</td>\n",
              "      <td>NaN</td>\n",
              "      <td>0.0</td>\n",
              "      <td>3</td>\n",
              "      <td>datacenter</td>\n",
              "      <td>2.0</td>\n",
              "      <td>1.0</td>\n",
              "      <td>0.0</td>\n",
              "      <td>E</td>\n",
              "      <td>outlier</td>\n",
              "    </tr>\n",
              "    <tr>\n",
              "      <th>1556</th>\n",
              "      <td>1556</td>\n",
              "      <td>8e8b99bb-7b6d-3437-9abc-1d884fe023d0</td>\n",
              "      <td>NaN</td>\n",
              "      <td>NaN</td>\n",
              "      <td>0.0</td>\n",
              "      <td>3</td>\n",
              "      <td>datacenter</td>\n",
              "      <td>2.0</td>\n",
              "      <td>1.0</td>\n",
              "      <td>0.0</td>\n",
              "      <td>E</td>\n",
              "      <td>outlier</td>\n",
              "    </tr>\n",
              "    <tr>\n",
              "      <th>1567</th>\n",
              "      <td>1567</td>\n",
              "      <td>bedfd600-80ef-3e95-8667-fa0d9a905d72</td>\n",
              "      <td>NaN</td>\n",
              "      <td>NaN</td>\n",
              "      <td>0.0</td>\n",
              "      <td>3</td>\n",
              "      <td>datacenter</td>\n",
              "      <td>4.0</td>\n",
              "      <td>1.0</td>\n",
              "      <td>0.0</td>\n",
              "      <td>E</td>\n",
              "      <td>outlier</td>\n",
              "    </tr>\n",
              "    <tr>\n",
              "      <th>1567</th>\n",
              "      <td>1567</td>\n",
              "      <td>bedfd600-80ef-3e95-8667-fa0d9a905d72</td>\n",
              "      <td>NaN</td>\n",
              "      <td>NaN</td>\n",
              "      <td>0.0</td>\n",
              "      <td>3</td>\n",
              "      <td>datacenter</td>\n",
              "      <td>4.0</td>\n",
              "      <td>1.0</td>\n",
              "      <td>0.0</td>\n",
              "      <td>E</td>\n",
              "      <td>outlier</td>\n",
              "    </tr>\n",
              "    <tr>\n",
              "      <th>1619</th>\n",
              "      <td>1619</td>\n",
              "      <td>60a25ad0-add8-3976-bc51-a7ff6779d5dc</td>\n",
              "      <td>NaN</td>\n",
              "      <td>NaN</td>\n",
              "      <td>0.0</td>\n",
              "      <td>3</td>\n",
              "      <td>datacenter</td>\n",
              "      <td>2.0</td>\n",
              "      <td>1.0</td>\n",
              "      <td>0.0</td>\n",
              "      <td>E</td>\n",
              "      <td>outlier</td>\n",
              "    </tr>\n",
              "    <tr>\n",
              "      <th>1619</th>\n",
              "      <td>1619</td>\n",
              "      <td>60a25ad0-add8-3976-bc51-a7ff6779d5dc</td>\n",
              "      <td>NaN</td>\n",
              "      <td>NaN</td>\n",
              "      <td>0.0</td>\n",
              "      <td>3</td>\n",
              "      <td>datacenter</td>\n",
              "      <td>2.0</td>\n",
              "      <td>1.0</td>\n",
              "      <td>0.0</td>\n",
              "      <td>E</td>\n",
              "      <td>outlier</td>\n",
              "    </tr>\n",
              "    <tr>\n",
              "      <th>1647</th>\n",
              "      <td>1647</td>\n",
              "      <td>70b6a9dd-e4c6-36a0-908d-2311c277b5e8</td>\n",
              "      <td>NaN</td>\n",
              "      <td>NaN</td>\n",
              "      <td>0.0</td>\n",
              "      <td>3</td>\n",
              "      <td>datacenter</td>\n",
              "      <td>4.0</td>\n",
              "      <td>1.0</td>\n",
              "      <td>0.0</td>\n",
              "      <td>E</td>\n",
              "      <td>outlier</td>\n",
              "    </tr>\n",
              "    <tr>\n",
              "      <th>1647</th>\n",
              "      <td>1647</td>\n",
              "      <td>70b6a9dd-e4c6-36a0-908d-2311c277b5e8</td>\n",
              "      <td>NaN</td>\n",
              "      <td>NaN</td>\n",
              "      <td>0.0</td>\n",
              "      <td>3</td>\n",
              "      <td>datacenter</td>\n",
              "      <td>4.0</td>\n",
              "      <td>1.0</td>\n",
              "      <td>0.0</td>\n",
              "      <td>E</td>\n",
              "      <td>outlier</td>\n",
              "    </tr>\n",
              "  </tbody>\n",
              "</table>\n",
              "</div>\n",
              "      <button class=\"colab-df-convert\" onclick=\"convertToInteractive('df-6e0b3160-af53-45eb-9880-b6466603bb1d')\"\n",
              "              title=\"Convert this dataframe to an interactive table.\"\n",
              "              style=\"display:none;\">\n",
              "        \n",
              "  <svg xmlns=\"http://www.w3.org/2000/svg\" height=\"24px\"viewBox=\"0 0 24 24\"\n",
              "       width=\"24px\">\n",
              "    <path d=\"M0 0h24v24H0V0z\" fill=\"none\"/>\n",
              "    <path d=\"M18.56 5.44l.94 2.06.94-2.06 2.06-.94-2.06-.94-.94-2.06-.94 2.06-2.06.94zm-11 1L8.5 8.5l.94-2.06 2.06-.94-2.06-.94L8.5 2.5l-.94 2.06-2.06.94zm10 10l.94 2.06.94-2.06 2.06-.94-2.06-.94-.94-2.06-.94 2.06-2.06.94z\"/><path d=\"M17.41 7.96l-1.37-1.37c-.4-.4-.92-.59-1.43-.59-.52 0-1.04.2-1.43.59L10.3 9.45l-7.72 7.72c-.78.78-.78 2.05 0 2.83L4 21.41c.39.39.9.59 1.41.59.51 0 1.02-.2 1.41-.59l7.78-7.78 2.81-2.81c.8-.78.8-2.07 0-2.86zM5.41 20L4 18.59l7.72-7.72 1.47 1.35L5.41 20z\"/>\n",
              "  </svg>\n",
              "      </button>\n",
              "      \n",
              "  <style>\n",
              "    .colab-df-container {\n",
              "      display:flex;\n",
              "      flex-wrap:wrap;\n",
              "      gap: 12px;\n",
              "    }\n",
              "\n",
              "    .colab-df-convert {\n",
              "      background-color: #E8F0FE;\n",
              "      border: none;\n",
              "      border-radius: 50%;\n",
              "      cursor: pointer;\n",
              "      display: none;\n",
              "      fill: #1967D2;\n",
              "      height: 32px;\n",
              "      padding: 0 0 0 0;\n",
              "      width: 32px;\n",
              "    }\n",
              "\n",
              "    .colab-df-convert:hover {\n",
              "      background-color: #E2EBFA;\n",
              "      box-shadow: 0px 1px 2px rgba(60, 64, 67, 0.3), 0px 1px 3px 1px rgba(60, 64, 67, 0.15);\n",
              "      fill: #174EA6;\n",
              "    }\n",
              "\n",
              "    [theme=dark] .colab-df-convert {\n",
              "      background-color: #3B4455;\n",
              "      fill: #D2E3FC;\n",
              "    }\n",
              "\n",
              "    [theme=dark] .colab-df-convert:hover {\n",
              "      background-color: #434B5C;\n",
              "      box-shadow: 0px 1px 3px 1px rgba(0, 0, 0, 0.15);\n",
              "      filter: drop-shadow(0px 1px 2px rgba(0, 0, 0, 0.3));\n",
              "      fill: #FFFFFF;\n",
              "    }\n",
              "  </style>\n",
              "\n",
              "      <script>\n",
              "        const buttonEl =\n",
              "          document.querySelector('#df-6e0b3160-af53-45eb-9880-b6466603bb1d button.colab-df-convert');\n",
              "        buttonEl.style.display =\n",
              "          google.colab.kernel.accessAllowed ? 'block' : 'none';\n",
              "\n",
              "        async function convertToInteractive(key) {\n",
              "          const element = document.querySelector('#df-6e0b3160-af53-45eb-9880-b6466603bb1d');\n",
              "          const dataTable =\n",
              "            await google.colab.kernel.invokeFunction('convertToInteractive',\n",
              "                                                     [key], {});\n",
              "          if (!dataTable) return;\n",
              "\n",
              "          const docLinkHtml = 'Like what you see? Visit the ' +\n",
              "            '<a target=\"_blank\" href=https://colab.research.google.com/notebooks/data_table.ipynb>data table notebook</a>'\n",
              "            + ' to learn more about interactive tables.';\n",
              "          element.innerHTML = '';\n",
              "          dataTable['output_type'] = 'display_data';\n",
              "          await google.colab.output.renderOutput(dataTable, element);\n",
              "          const docLink = document.createElement('div');\n",
              "          docLink.innerHTML = docLinkHtml;\n",
              "          element.appendChild(docLink);\n",
              "        }\n",
              "      </script>\n",
              "    </div>\n",
              "  </div>\n",
              "  "
            ]
          },
          "metadata": {},
          "execution_count": 98
        }
      ]
    },
    {
      "cell_type": "code",
      "source": [
        "df_clean = df_raw.drop(nan_rows.index)\n",
        "df_clean.shape"
      ],
      "metadata": {
        "colab": {
          "base_uri": "https://localhost:8080/"
        },
        "id": "bAWZZlTbXY5f",
        "outputId": "24501b82-a72d-4e72-cfac-ba7a9a9782db"
      },
      "execution_count": null,
      "outputs": [
        {
          "output_type": "execute_result",
          "data": {
            "text/plain": [
              "(1695, 12)"
            ]
          },
          "metadata": {},
          "execution_count": 99
        }
      ]
    },
    {
      "cell_type": "code",
      "source": [
        "df = df_clean.drop(['Unnamed: 0', '_id', \"source\"], axis=1)"
      ],
      "metadata": {
        "id": "hnK_hkJZVARd"
      },
      "execution_count": null,
      "outputs": []
    },
    {
      "cell_type": "code",
      "source": [
        "# Put classification column into an array for training\n",
        "quant_class = [(0 if row == \"normal\" else 1) for row in df[\"classification\"]]\n",
        "y = np.array(quant_class)\n",
        "y[0:10]\n"
      ],
      "metadata": {
        "colab": {
          "base_uri": "https://localhost:8080/"
        },
        "id": "Jb-0TQM9VAT7",
        "outputId": "985c31b0-474f-477a-8283-443bb201dde6"
      },
      "execution_count": null,
      "outputs": [
        {
          "output_type": "execute_result",
          "data": {
            "text/plain": [
              "array([0, 0, 0, 0, 0, 0, 0, 0, 0, 0])"
            ]
          },
          "metadata": {},
          "execution_count": 101
        }
      ]
    },
    {
      "cell_type": "code",
      "source": [
        "# Number of anomalies in dataset\n",
        "np.count_nonzero(y == 1)"
      ],
      "metadata": {
        "colab": {
          "base_uri": "https://localhost:8080/"
        },
        "id": "ScV8WxnVgYpN",
        "outputId": "f7903597-e3df-4210-87f1-a6c8e1383c6f"
      },
      "execution_count": null,
      "outputs": [
        {
          "output_type": "execute_result",
          "data": {
            "text/plain": [
              "589"
            ]
          },
          "metadata": {},
          "execution_count": 102
        }
      ]
    },
    {
      "cell_type": "code",
      "source": [
        "# Number of normal cases in dataset\n",
        "np.count_nonzero(y == 0)"
      ],
      "metadata": {
        "colab": {
          "base_uri": "https://localhost:8080/"
        },
        "id": "E7GFxql6itnL",
        "outputId": "443f21bf-026f-4c83-85ee-81b8cfc069b6"
      },
      "execution_count": null,
      "outputs": [
        {
          "output_type": "execute_result",
          "data": {
            "text/plain": [
              "1106"
            ]
          },
          "metadata": {},
          "execution_count": 103
        }
      ]
    },
    {
      "cell_type": "code",
      "source": [
        "# Convert ip_type into a numerical 0 or 1 value, add column to table\n",
        "quant_ip_type = [(0 if row == \"default\" else 1) for row in df[\"ip_type\"]]\n",
        "df[\"quant_ip_type\"] = quant_ip_type\n",
        "df.sample(10)"
      ],
      "metadata": {
        "colab": {
          "base_uri": "https://localhost:8080/",
          "height": 427
        },
        "id": "olmnIB_dVAZM",
        "outputId": "ab8eae12-a8f1-468e-ac8f-b7d6bba8eae1"
      },
      "execution_count": null,
      "outputs": [
        {
          "output_type": "execute_result",
          "data": {
            "text/plain": [
              "      inter_api_access_duration(sec)  api_access_uniqueness  \\\n",
              "706                         0.000831               0.006423   \n",
              "305                         0.000574               0.055905   \n",
              "1081                        0.000841               0.019543   \n",
              "19                          0.012259               0.009315   \n",
              "779                         0.000100               0.006119   \n",
              "51                          0.021446               0.012578   \n",
              "966                         0.001424               0.007785   \n",
              "498                         0.000911               0.027356   \n",
              "751                         0.001069               0.022228   \n",
              "213                         0.008142               0.009314   \n",
              "\n",
              "      sequence_length(count)  vsession_duration(min)  ip_type  num_sessions  \\\n",
              "706                17.221239                     195  default         281.0   \n",
              "305                10.294964                      50  default         199.0   \n",
              "1081               16.818182                     122  default         149.0   \n",
              "19                 82.713115                   14845  default         256.0   \n",
              "779                22.616216                     126  default        1284.0   \n",
              "51                 33.941520                    7469  default         193.0   \n",
              "966                11.223301                      99  default         101.0   \n",
              "498                 7.833333                      54  default         133.0   \n",
              "751                10.174387                     240  default         499.0   \n",
              "213                76.086957                    8549  default         239.0   \n",
              "\n",
              "      num_users  num_unique_apis classification  quant_ip_type  \n",
              "706       226.0             25.0         normal              0  \n",
              "305       139.0             80.0         normal              0  \n",
              "1081      143.0             47.0         normal              0  \n",
              "19        244.0            188.0         normal              0  \n",
              "779       925.0            128.0         normal              0  \n",
              "51        171.0             73.0         normal              0  \n",
              "966       103.0              9.0         normal              0  \n",
              "498       126.0             27.0         normal              0  \n",
              "751       367.0             83.0         normal              0  \n",
              "213       230.0            163.0         normal              0  "
            ],
            "text/html": [
              "\n",
              "  <div id=\"df-46abd01c-5a41-49d8-b962-e47630dbce11\">\n",
              "    <div class=\"colab-df-container\">\n",
              "      <div>\n",
              "<style scoped>\n",
              "    .dataframe tbody tr th:only-of-type {\n",
              "        vertical-align: middle;\n",
              "    }\n",
              "\n",
              "    .dataframe tbody tr th {\n",
              "        vertical-align: top;\n",
              "    }\n",
              "\n",
              "    .dataframe thead th {\n",
              "        text-align: right;\n",
              "    }\n",
              "</style>\n",
              "<table border=\"1\" class=\"dataframe\">\n",
              "  <thead>\n",
              "    <tr style=\"text-align: right;\">\n",
              "      <th></th>\n",
              "      <th>inter_api_access_duration(sec)</th>\n",
              "      <th>api_access_uniqueness</th>\n",
              "      <th>sequence_length(count)</th>\n",
              "      <th>vsession_duration(min)</th>\n",
              "      <th>ip_type</th>\n",
              "      <th>num_sessions</th>\n",
              "      <th>num_users</th>\n",
              "      <th>num_unique_apis</th>\n",
              "      <th>classification</th>\n",
              "      <th>quant_ip_type</th>\n",
              "    </tr>\n",
              "  </thead>\n",
              "  <tbody>\n",
              "    <tr>\n",
              "      <th>706</th>\n",
              "      <td>0.000831</td>\n",
              "      <td>0.006423</td>\n",
              "      <td>17.221239</td>\n",
              "      <td>195</td>\n",
              "      <td>default</td>\n",
              "      <td>281.0</td>\n",
              "      <td>226.0</td>\n",
              "      <td>25.0</td>\n",
              "      <td>normal</td>\n",
              "      <td>0</td>\n",
              "    </tr>\n",
              "    <tr>\n",
              "      <th>305</th>\n",
              "      <td>0.000574</td>\n",
              "      <td>0.055905</td>\n",
              "      <td>10.294964</td>\n",
              "      <td>50</td>\n",
              "      <td>default</td>\n",
              "      <td>199.0</td>\n",
              "      <td>139.0</td>\n",
              "      <td>80.0</td>\n",
              "      <td>normal</td>\n",
              "      <td>0</td>\n",
              "    </tr>\n",
              "    <tr>\n",
              "      <th>1081</th>\n",
              "      <td>0.000841</td>\n",
              "      <td>0.019543</td>\n",
              "      <td>16.818182</td>\n",
              "      <td>122</td>\n",
              "      <td>default</td>\n",
              "      <td>149.0</td>\n",
              "      <td>143.0</td>\n",
              "      <td>47.0</td>\n",
              "      <td>normal</td>\n",
              "      <td>0</td>\n",
              "    </tr>\n",
              "    <tr>\n",
              "      <th>19</th>\n",
              "      <td>0.012259</td>\n",
              "      <td>0.009315</td>\n",
              "      <td>82.713115</td>\n",
              "      <td>14845</td>\n",
              "      <td>default</td>\n",
              "      <td>256.0</td>\n",
              "      <td>244.0</td>\n",
              "      <td>188.0</td>\n",
              "      <td>normal</td>\n",
              "      <td>0</td>\n",
              "    </tr>\n",
              "    <tr>\n",
              "      <th>779</th>\n",
              "      <td>0.000100</td>\n",
              "      <td>0.006119</td>\n",
              "      <td>22.616216</td>\n",
              "      <td>126</td>\n",
              "      <td>default</td>\n",
              "      <td>1284.0</td>\n",
              "      <td>925.0</td>\n",
              "      <td>128.0</td>\n",
              "      <td>normal</td>\n",
              "      <td>0</td>\n",
              "    </tr>\n",
              "    <tr>\n",
              "      <th>51</th>\n",
              "      <td>0.021446</td>\n",
              "      <td>0.012578</td>\n",
              "      <td>33.941520</td>\n",
              "      <td>7469</td>\n",
              "      <td>default</td>\n",
              "      <td>193.0</td>\n",
              "      <td>171.0</td>\n",
              "      <td>73.0</td>\n",
              "      <td>normal</td>\n",
              "      <td>0</td>\n",
              "    </tr>\n",
              "    <tr>\n",
              "      <th>966</th>\n",
              "      <td>0.001424</td>\n",
              "      <td>0.007785</td>\n",
              "      <td>11.223301</td>\n",
              "      <td>99</td>\n",
              "      <td>default</td>\n",
              "      <td>101.0</td>\n",
              "      <td>103.0</td>\n",
              "      <td>9.0</td>\n",
              "      <td>normal</td>\n",
              "      <td>0</td>\n",
              "    </tr>\n",
              "    <tr>\n",
              "      <th>498</th>\n",
              "      <td>0.000911</td>\n",
              "      <td>0.027356</td>\n",
              "      <td>7.833333</td>\n",
              "      <td>54</td>\n",
              "      <td>default</td>\n",
              "      <td>133.0</td>\n",
              "      <td>126.0</td>\n",
              "      <td>27.0</td>\n",
              "      <td>normal</td>\n",
              "      <td>0</td>\n",
              "    </tr>\n",
              "    <tr>\n",
              "      <th>751</th>\n",
              "      <td>0.001069</td>\n",
              "      <td>0.022228</td>\n",
              "      <td>10.174387</td>\n",
              "      <td>240</td>\n",
              "      <td>default</td>\n",
              "      <td>499.0</td>\n",
              "      <td>367.0</td>\n",
              "      <td>83.0</td>\n",
              "      <td>normal</td>\n",
              "      <td>0</td>\n",
              "    </tr>\n",
              "    <tr>\n",
              "      <th>213</th>\n",
              "      <td>0.008142</td>\n",
              "      <td>0.009314</td>\n",
              "      <td>76.086957</td>\n",
              "      <td>8549</td>\n",
              "      <td>default</td>\n",
              "      <td>239.0</td>\n",
              "      <td>230.0</td>\n",
              "      <td>163.0</td>\n",
              "      <td>normal</td>\n",
              "      <td>0</td>\n",
              "    </tr>\n",
              "  </tbody>\n",
              "</table>\n",
              "</div>\n",
              "      <button class=\"colab-df-convert\" onclick=\"convertToInteractive('df-46abd01c-5a41-49d8-b962-e47630dbce11')\"\n",
              "              title=\"Convert this dataframe to an interactive table.\"\n",
              "              style=\"display:none;\">\n",
              "        \n",
              "  <svg xmlns=\"http://www.w3.org/2000/svg\" height=\"24px\"viewBox=\"0 0 24 24\"\n",
              "       width=\"24px\">\n",
              "    <path d=\"M0 0h24v24H0V0z\" fill=\"none\"/>\n",
              "    <path d=\"M18.56 5.44l.94 2.06.94-2.06 2.06-.94-2.06-.94-.94-2.06-.94 2.06-2.06.94zm-11 1L8.5 8.5l.94-2.06 2.06-.94-2.06-.94L8.5 2.5l-.94 2.06-2.06.94zm10 10l.94 2.06.94-2.06 2.06-.94-2.06-.94-.94-2.06-.94 2.06-2.06.94z\"/><path d=\"M17.41 7.96l-1.37-1.37c-.4-.4-.92-.59-1.43-.59-.52 0-1.04.2-1.43.59L10.3 9.45l-7.72 7.72c-.78.78-.78 2.05 0 2.83L4 21.41c.39.39.9.59 1.41.59.51 0 1.02-.2 1.41-.59l7.78-7.78 2.81-2.81c.8-.78.8-2.07 0-2.86zM5.41 20L4 18.59l7.72-7.72 1.47 1.35L5.41 20z\"/>\n",
              "  </svg>\n",
              "      </button>\n",
              "      \n",
              "  <style>\n",
              "    .colab-df-container {\n",
              "      display:flex;\n",
              "      flex-wrap:wrap;\n",
              "      gap: 12px;\n",
              "    }\n",
              "\n",
              "    .colab-df-convert {\n",
              "      background-color: #E8F0FE;\n",
              "      border: none;\n",
              "      border-radius: 50%;\n",
              "      cursor: pointer;\n",
              "      display: none;\n",
              "      fill: #1967D2;\n",
              "      height: 32px;\n",
              "      padding: 0 0 0 0;\n",
              "      width: 32px;\n",
              "    }\n",
              "\n",
              "    .colab-df-convert:hover {\n",
              "      background-color: #E2EBFA;\n",
              "      box-shadow: 0px 1px 2px rgba(60, 64, 67, 0.3), 0px 1px 3px 1px rgba(60, 64, 67, 0.15);\n",
              "      fill: #174EA6;\n",
              "    }\n",
              "\n",
              "    [theme=dark] .colab-df-convert {\n",
              "      background-color: #3B4455;\n",
              "      fill: #D2E3FC;\n",
              "    }\n",
              "\n",
              "    [theme=dark] .colab-df-convert:hover {\n",
              "      background-color: #434B5C;\n",
              "      box-shadow: 0px 1px 3px 1px rgba(0, 0, 0, 0.15);\n",
              "      filter: drop-shadow(0px 1px 2px rgba(0, 0, 0, 0.3));\n",
              "      fill: #FFFFFF;\n",
              "    }\n",
              "  </style>\n",
              "\n",
              "      <script>\n",
              "        const buttonEl =\n",
              "          document.querySelector('#df-46abd01c-5a41-49d8-b962-e47630dbce11 button.colab-df-convert');\n",
              "        buttonEl.style.display =\n",
              "          google.colab.kernel.accessAllowed ? 'block' : 'none';\n",
              "\n",
              "        async function convertToInteractive(key) {\n",
              "          const element = document.querySelector('#df-46abd01c-5a41-49d8-b962-e47630dbce11');\n",
              "          const dataTable =\n",
              "            await google.colab.kernel.invokeFunction('convertToInteractive',\n",
              "                                                     [key], {});\n",
              "          if (!dataTable) return;\n",
              "\n",
              "          const docLinkHtml = 'Like what you see? Visit the ' +\n",
              "            '<a target=\"_blank\" href=https://colab.research.google.com/notebooks/data_table.ipynb>data table notebook</a>'\n",
              "            + ' to learn more about interactive tables.';\n",
              "          element.innerHTML = '';\n",
              "          dataTable['output_type'] = 'display_data';\n",
              "          await google.colab.output.renderOutput(dataTable, element);\n",
              "          const docLink = document.createElement('div');\n",
              "          docLink.innerHTML = docLinkHtml;\n",
              "          element.appendChild(docLink);\n",
              "        }\n",
              "      </script>\n",
              "    </div>\n",
              "  </div>\n",
              "  "
            ]
          },
          "metadata": {},
          "execution_count": 104
        }
      ]
    },
    {
      "cell_type": "code",
      "source": [
        "# Drop columns that are not numerical\n",
        "df = df.drop([\"classification\", \"ip_type\"], axis=1)\n",
        "df.sample(10)"
      ],
      "metadata": {
        "colab": {
          "base_uri": "https://localhost:8080/",
          "height": 427
        },
        "id": "8vt_gopFVAbL",
        "outputId": "5ce755a9-38ea-4fe9-8cc0-eedc00df067c"
      },
      "execution_count": null,
      "outputs": [
        {
          "output_type": "execute_result",
          "data": {
            "text/plain": [
              "      inter_api_access_duration(sec)  api_access_uniqueness  \\\n",
              "855                         0.025912               0.017429   \n",
              "710                         0.000462               0.017370   \n",
              "784                         0.000984               0.022222   \n",
              "157                         0.008139               0.015663   \n",
              "1635                        0.124647               0.274510   \n",
              "20                          0.000980               0.005899   \n",
              "373                         0.000005               0.018145   \n",
              "914                         0.000693               0.023220   \n",
              "1423                        0.062000               1.000000   \n",
              "181                         0.000406               0.006960   \n",
              "\n",
              "      sequence_length(count)  vsession_duration(min)  num_sessions  num_users  \\\n",
              "855                15.198675                    3569         152.0      151.0   \n",
              "710                 6.914216                      79         457.0      408.0   \n",
              "784                 5.547945                      48         161.0      146.0   \n",
              "157                74.290909                    3991         127.0      110.0   \n",
              "1635               51.000000                     382           3.0        1.0   \n",
              "20                 16.330275                     210         280.0      218.0   \n",
              "373                32.847682                       2        3573.0      151.0   \n",
              "914                 8.229299                      54         175.0      157.0   \n",
              "1423                2.000000                       8           2.0        1.0   \n",
              "181                12.061856                     200         706.0      679.0   \n",
              "\n",
              "      num_unique_apis  quant_ip_type  \n",
              "855              40.0              0  \n",
              "710              49.0              0  \n",
              "784              18.0              0  \n",
              "157             128.0              0  \n",
              "1635             14.0              1  \n",
              "20               21.0              0  \n",
              "373              90.0              0  \n",
              "914              30.0              0  \n",
              "1423              2.0              0  \n",
              "181              57.0              0  "
            ],
            "text/html": [
              "\n",
              "  <div id=\"df-e5f2a354-e2ad-4fca-8342-ab932d9fbd0f\">\n",
              "    <div class=\"colab-df-container\">\n",
              "      <div>\n",
              "<style scoped>\n",
              "    .dataframe tbody tr th:only-of-type {\n",
              "        vertical-align: middle;\n",
              "    }\n",
              "\n",
              "    .dataframe tbody tr th {\n",
              "        vertical-align: top;\n",
              "    }\n",
              "\n",
              "    .dataframe thead th {\n",
              "        text-align: right;\n",
              "    }\n",
              "</style>\n",
              "<table border=\"1\" class=\"dataframe\">\n",
              "  <thead>\n",
              "    <tr style=\"text-align: right;\">\n",
              "      <th></th>\n",
              "      <th>inter_api_access_duration(sec)</th>\n",
              "      <th>api_access_uniqueness</th>\n",
              "      <th>sequence_length(count)</th>\n",
              "      <th>vsession_duration(min)</th>\n",
              "      <th>num_sessions</th>\n",
              "      <th>num_users</th>\n",
              "      <th>num_unique_apis</th>\n",
              "      <th>quant_ip_type</th>\n",
              "    </tr>\n",
              "  </thead>\n",
              "  <tbody>\n",
              "    <tr>\n",
              "      <th>855</th>\n",
              "      <td>0.025912</td>\n",
              "      <td>0.017429</td>\n",
              "      <td>15.198675</td>\n",
              "      <td>3569</td>\n",
              "      <td>152.0</td>\n",
              "      <td>151.0</td>\n",
              "      <td>40.0</td>\n",
              "      <td>0</td>\n",
              "    </tr>\n",
              "    <tr>\n",
              "      <th>710</th>\n",
              "      <td>0.000462</td>\n",
              "      <td>0.017370</td>\n",
              "      <td>6.914216</td>\n",
              "      <td>79</td>\n",
              "      <td>457.0</td>\n",
              "      <td>408.0</td>\n",
              "      <td>49.0</td>\n",
              "      <td>0</td>\n",
              "    </tr>\n",
              "    <tr>\n",
              "      <th>784</th>\n",
              "      <td>0.000984</td>\n",
              "      <td>0.022222</td>\n",
              "      <td>5.547945</td>\n",
              "      <td>48</td>\n",
              "      <td>161.0</td>\n",
              "      <td>146.0</td>\n",
              "      <td>18.0</td>\n",
              "      <td>0</td>\n",
              "    </tr>\n",
              "    <tr>\n",
              "      <th>157</th>\n",
              "      <td>0.008139</td>\n",
              "      <td>0.015663</td>\n",
              "      <td>74.290909</td>\n",
              "      <td>3991</td>\n",
              "      <td>127.0</td>\n",
              "      <td>110.0</td>\n",
              "      <td>128.0</td>\n",
              "      <td>0</td>\n",
              "    </tr>\n",
              "    <tr>\n",
              "      <th>1635</th>\n",
              "      <td>0.124647</td>\n",
              "      <td>0.274510</td>\n",
              "      <td>51.000000</td>\n",
              "      <td>382</td>\n",
              "      <td>3.0</td>\n",
              "      <td>1.0</td>\n",
              "      <td>14.0</td>\n",
              "      <td>1</td>\n",
              "    </tr>\n",
              "    <tr>\n",
              "      <th>20</th>\n",
              "      <td>0.000980</td>\n",
              "      <td>0.005899</td>\n",
              "      <td>16.330275</td>\n",
              "      <td>210</td>\n",
              "      <td>280.0</td>\n",
              "      <td>218.0</td>\n",
              "      <td>21.0</td>\n",
              "      <td>0</td>\n",
              "    </tr>\n",
              "    <tr>\n",
              "      <th>373</th>\n",
              "      <td>0.000005</td>\n",
              "      <td>0.018145</td>\n",
              "      <td>32.847682</td>\n",
              "      <td>2</td>\n",
              "      <td>3573.0</td>\n",
              "      <td>151.0</td>\n",
              "      <td>90.0</td>\n",
              "      <td>0</td>\n",
              "    </tr>\n",
              "    <tr>\n",
              "      <th>914</th>\n",
              "      <td>0.000693</td>\n",
              "      <td>0.023220</td>\n",
              "      <td>8.229299</td>\n",
              "      <td>54</td>\n",
              "      <td>175.0</td>\n",
              "      <td>157.0</td>\n",
              "      <td>30.0</td>\n",
              "      <td>0</td>\n",
              "    </tr>\n",
              "    <tr>\n",
              "      <th>1423</th>\n",
              "      <td>0.062000</td>\n",
              "      <td>1.000000</td>\n",
              "      <td>2.000000</td>\n",
              "      <td>8</td>\n",
              "      <td>2.0</td>\n",
              "      <td>1.0</td>\n",
              "      <td>2.0</td>\n",
              "      <td>0</td>\n",
              "    </tr>\n",
              "    <tr>\n",
              "      <th>181</th>\n",
              "      <td>0.000406</td>\n",
              "      <td>0.006960</td>\n",
              "      <td>12.061856</td>\n",
              "      <td>200</td>\n",
              "      <td>706.0</td>\n",
              "      <td>679.0</td>\n",
              "      <td>57.0</td>\n",
              "      <td>0</td>\n",
              "    </tr>\n",
              "  </tbody>\n",
              "</table>\n",
              "</div>\n",
              "      <button class=\"colab-df-convert\" onclick=\"convertToInteractive('df-e5f2a354-e2ad-4fca-8342-ab932d9fbd0f')\"\n",
              "              title=\"Convert this dataframe to an interactive table.\"\n",
              "              style=\"display:none;\">\n",
              "        \n",
              "  <svg xmlns=\"http://www.w3.org/2000/svg\" height=\"24px\"viewBox=\"0 0 24 24\"\n",
              "       width=\"24px\">\n",
              "    <path d=\"M0 0h24v24H0V0z\" fill=\"none\"/>\n",
              "    <path d=\"M18.56 5.44l.94 2.06.94-2.06 2.06-.94-2.06-.94-.94-2.06-.94 2.06-2.06.94zm-11 1L8.5 8.5l.94-2.06 2.06-.94-2.06-.94L8.5 2.5l-.94 2.06-2.06.94zm10 10l.94 2.06.94-2.06 2.06-.94-2.06-.94-.94-2.06-.94 2.06-2.06.94z\"/><path d=\"M17.41 7.96l-1.37-1.37c-.4-.4-.92-.59-1.43-.59-.52 0-1.04.2-1.43.59L10.3 9.45l-7.72 7.72c-.78.78-.78 2.05 0 2.83L4 21.41c.39.39.9.59 1.41.59.51 0 1.02-.2 1.41-.59l7.78-7.78 2.81-2.81c.8-.78.8-2.07 0-2.86zM5.41 20L4 18.59l7.72-7.72 1.47 1.35L5.41 20z\"/>\n",
              "  </svg>\n",
              "      </button>\n",
              "      \n",
              "  <style>\n",
              "    .colab-df-container {\n",
              "      display:flex;\n",
              "      flex-wrap:wrap;\n",
              "      gap: 12px;\n",
              "    }\n",
              "\n",
              "    .colab-df-convert {\n",
              "      background-color: #E8F0FE;\n",
              "      border: none;\n",
              "      border-radius: 50%;\n",
              "      cursor: pointer;\n",
              "      display: none;\n",
              "      fill: #1967D2;\n",
              "      height: 32px;\n",
              "      padding: 0 0 0 0;\n",
              "      width: 32px;\n",
              "    }\n",
              "\n",
              "    .colab-df-convert:hover {\n",
              "      background-color: #E2EBFA;\n",
              "      box-shadow: 0px 1px 2px rgba(60, 64, 67, 0.3), 0px 1px 3px 1px rgba(60, 64, 67, 0.15);\n",
              "      fill: #174EA6;\n",
              "    }\n",
              "\n",
              "    [theme=dark] .colab-df-convert {\n",
              "      background-color: #3B4455;\n",
              "      fill: #D2E3FC;\n",
              "    }\n",
              "\n",
              "    [theme=dark] .colab-df-convert:hover {\n",
              "      background-color: #434B5C;\n",
              "      box-shadow: 0px 1px 3px 1px rgba(0, 0, 0, 0.15);\n",
              "      filter: drop-shadow(0px 1px 2px rgba(0, 0, 0, 0.3));\n",
              "      fill: #FFFFFF;\n",
              "    }\n",
              "  </style>\n",
              "\n",
              "      <script>\n",
              "        const buttonEl =\n",
              "          document.querySelector('#df-e5f2a354-e2ad-4fca-8342-ab932d9fbd0f button.colab-df-convert');\n",
              "        buttonEl.style.display =\n",
              "          google.colab.kernel.accessAllowed ? 'block' : 'none';\n",
              "\n",
              "        async function convertToInteractive(key) {\n",
              "          const element = document.querySelector('#df-e5f2a354-e2ad-4fca-8342-ab932d9fbd0f');\n",
              "          const dataTable =\n",
              "            await google.colab.kernel.invokeFunction('convertToInteractive',\n",
              "                                                     [key], {});\n",
              "          if (!dataTable) return;\n",
              "\n",
              "          const docLinkHtml = 'Like what you see? Visit the ' +\n",
              "            '<a target=\"_blank\" href=https://colab.research.google.com/notebooks/data_table.ipynb>data table notebook</a>'\n",
              "            + ' to learn more about interactive tables.';\n",
              "          element.innerHTML = '';\n",
              "          dataTable['output_type'] = 'display_data';\n",
              "          await google.colab.output.renderOutput(dataTable, element);\n",
              "          const docLink = document.createElement('div');\n",
              "          docLink.innerHTML = docLinkHtml;\n",
              "          element.appendChild(docLink);\n",
              "        }\n",
              "      </script>\n",
              "    </div>\n",
              "  </div>\n",
              "  "
            ]
          },
          "metadata": {},
          "execution_count": 105
        }
      ]
    },
    {
      "cell_type": "code",
      "source": [
        "X_raw = df.to_numpy()\n",
        "X_raw[1]"
      ],
      "metadata": {
        "colab": {
          "base_uri": "https://localhost:8080/"
        },
        "id": "yyVOtnECMWV-",
        "outputId": "c7c7ef80-6cf8-4742-f58b-f129087d7667"
      },
      "execution_count": null,
      "outputs": [
        {
          "output_type": "execute_result",
          "data": {
            "text/plain": [
              "array([6.32464613e-05, 2.21146594e-03, 1.61668048e+01, 5.19000000e+02,\n",
              "       9.29900000e+03, 8.44700000e+03, 3.02000000e+02, 0.00000000e+00])"
            ]
          },
          "metadata": {},
          "execution_count": 106
        }
      ]
    },
    {
      "cell_type": "markdown",
      "source": [
        "\n",
        "\n",
        "---\n",
        "\n",
        "\n"
      ],
      "metadata": {
        "id": "rPgGeg1TiTyu"
      }
    },
    {
      "cell_type": "markdown",
      "source": [
        "Data has been loaded, cleaned, and prepared to begin using it for the learning models."
      ],
      "metadata": {
        "id": "hSFG1TVJMN-g"
      }
    },
    {
      "cell_type": "code",
      "source": [
        "# Easy Way: \n",
        "X_easy = stats.zscore(X_raw, axis=0)\n",
        "print(f\"Easy: {X_easy[1,:]}\")\n",
        "\n",
        "# Manual Way:\n",
        "X_mean = np.mean(X_raw, axis=0)\n",
        "X_std = np.std(X_raw, axis=0)\n",
        "X = (X_raw - X_mean) / X_std\n",
        "print(f\"Manual: {X[1,:]}\")\n",
        "\n",
        "# Just for some coding fun\n",
        "# 'Reinventing the Wheel'/'Sloth Slow' Way:\n",
        "columns = X_raw.shape[1]\n",
        "rows = X_raw.shape[0]\n",
        "X_slow = np.zeros([rows,columns])\n",
        "mean = np.zeros(columns)\n",
        "std = np.zeros(columns)\n",
        "for col in range(columns):\n",
        "  for i in range(rows):\n",
        "    mean[col] += X_raw[i,col]\n",
        "for col in range(columns):\n",
        "  mean[col] = mean[col] / rows\n",
        "for col in range(columns):\n",
        "  for i in range(rows):\n",
        "    std[col] += ((X_raw[i,col] - mean[col])**2) / rows\n",
        "std = np.sqrt(std)\n",
        "for col in range(columns):\n",
        "  for i in range(rows):\n",
        "    X_slow[i,col] = (X_raw[i,col] - mean[col]) / std[col]\n",
        "\n",
        "print(f\"Stone Age: {X_slow[1,:]}\")"
      ],
      "metadata": {
        "colab": {
          "base_uri": "https://localhost:8080/"
        },
        "id": "ZxUoAcwZMUcj",
        "outputId": "b9326ed5-77e0-46ab-879a-1ec598cfc889"
      },
      "execution_count": null,
      "outputs": [
        {
          "output_type": "stream",
          "name": "stdout",
          "text": [
            "Easy: [-0.06920146 -0.60310385 -0.22153276 -0.11830091  7.39667288  8.36286794\n",
            "  2.85405856 -0.3149949 ]\n",
            "Manual: [-0.06920146 -0.60310385 -0.22153276 -0.11830091  7.39667288  8.36286794\n",
            "  2.85405856 -0.3149949 ]\n",
            "Stone Age: [-0.06920146 -0.60310385 -0.22153276 -0.11830091  7.39667288  8.36286794\n",
            "  2.85405856 -0.3149949 ]\n"
          ]
        }
      ]
    },
    {
      "cell_type": "code",
      "source": [
        "# Split dataset into training and test\n",
        "X_train, X_test, y_train, y_test = train_test_split(X,y,test_size=0.4, random_state=1)\n",
        "print(\"X_train.shape\", X_train.shape, \"y_train.shape\", y_train.shape)\n",
        "print(\"X_test.shape\", X_test.shape, \"y_test.shape\", y_test.shape)"
      ],
      "metadata": {
        "colab": {
          "base_uri": "https://localhost:8080/"
        },
        "id": "zqhXH_FQL_56",
        "outputId": "1898022b-385e-4715-c7b2-91ffc7d699eb"
      },
      "execution_count": null,
      "outputs": [
        {
          "output_type": "stream",
          "name": "stdout",
          "text": [
            "X_train.shape (1017, 8) y_train.shape (1017,)\n",
            "X_test.shape (678, 8) y_test.shape (678,)\n"
          ]
        }
      ]
    },
    {
      "cell_type": "code",
      "source": [
        "# 8 inputs, so start with a simple x2, x1, binary output architecture\n",
        "model = Sequential(\n",
        "    [\n",
        "      Dense(units=16, activation=\"relu\"),\n",
        "      Dense(units=8, activation=\"relu\"),\n",
        "      Dense(units=1, activation=\"sigmoid\", name=\"L3\")\n",
        "    ], name=\"NN\"\n",
        ")\n",
        "model.compile(\n",
        "    loss=BinaryCrossentropy(),\n",
        "    optimizer=Adam(0.01)\n",
        ")"
      ],
      "metadata": {
        "id": "adW_-GNZL_9D"
      },
      "execution_count": null,
      "outputs": []
    },
    {
      "cell_type": "code",
      "source": [
        "model.fit(\n",
        "    X_train, y_train,\n",
        "    epochs=100\n",
        ")"
      ],
      "metadata": {
        "colab": {
          "base_uri": "https://localhost:8080/"
        },
        "id": "Ddd0YDzDL__k",
        "outputId": "10bea040-631e-4af0-ec71-96fc5a425ea9"
      },
      "execution_count": null,
      "outputs": [
        {
          "output_type": "stream",
          "name": "stdout",
          "text": [
            "Epoch 1/100\n",
            "32/32 [==============================] - 1s 2ms/step - loss: 0.3880\n",
            "Epoch 2/100\n",
            "32/32 [==============================] - 0s 2ms/step - loss: 0.0382\n",
            "Epoch 3/100\n",
            "32/32 [==============================] - 0s 2ms/step - loss: 0.0046\n",
            "Epoch 4/100\n",
            "32/32 [==============================] - 0s 2ms/step - loss: 0.0023\n",
            "Epoch 5/100\n",
            "32/32 [==============================] - 0s 2ms/step - loss: 0.0017\n",
            "Epoch 6/100\n",
            "32/32 [==============================] - 0s 2ms/step - loss: 0.0014\n",
            "Epoch 7/100\n",
            "32/32 [==============================] - 0s 2ms/step - loss: 0.0011\n",
            "Epoch 8/100\n",
            "32/32 [==============================] - 0s 2ms/step - loss: 7.8888e-04\n",
            "Epoch 9/100\n",
            "32/32 [==============================] - 0s 2ms/step - loss: 9.9597e-04\n",
            "Epoch 10/100\n",
            "32/32 [==============================] - 0s 2ms/step - loss: 5.3337e-04\n",
            "Epoch 11/100\n",
            "32/32 [==============================] - 0s 2ms/step - loss: 4.5142e-04\n",
            "Epoch 12/100\n",
            "32/32 [==============================] - 0s 2ms/step - loss: 4.7314e-04\n",
            "Epoch 13/100\n",
            "32/32 [==============================] - 0s 3ms/step - loss: 3.2251e-04\n",
            "Epoch 14/100\n",
            "32/32 [==============================] - 0s 2ms/step - loss: 3.6317e-04\n",
            "Epoch 15/100\n",
            "32/32 [==============================] - 0s 2ms/step - loss: 2.7318e-04\n",
            "Epoch 16/100\n",
            "32/32 [==============================] - 0s 2ms/step - loss: 2.4282e-04\n",
            "Epoch 17/100\n",
            "32/32 [==============================] - 0s 2ms/step - loss: 1.9802e-04\n",
            "Epoch 18/100\n",
            "32/32 [==============================] - 0s 2ms/step - loss: 1.7977e-04\n",
            "Epoch 19/100\n",
            "32/32 [==============================] - 0s 2ms/step - loss: 1.5681e-04\n",
            "Epoch 20/100\n",
            "32/32 [==============================] - 0s 2ms/step - loss: 1.6212e-04\n",
            "Epoch 21/100\n",
            "32/32 [==============================] - 0s 2ms/step - loss: 1.2712e-04\n",
            "Epoch 22/100\n",
            "32/32 [==============================] - 0s 2ms/step - loss: 1.3970e-04\n",
            "Epoch 23/100\n",
            "32/32 [==============================] - 0s 2ms/step - loss: 1.1227e-04\n",
            "Epoch 24/100\n",
            "32/32 [==============================] - 0s 2ms/step - loss: 1.0761e-04\n",
            "Epoch 25/100\n",
            "32/32 [==============================] - 0s 2ms/step - loss: 9.3159e-05\n",
            "Epoch 26/100\n",
            "32/32 [==============================] - 0s 2ms/step - loss: 8.7924e-05\n",
            "Epoch 27/100\n",
            "32/32 [==============================] - 0s 2ms/step - loss: 7.9436e-05\n",
            "Epoch 28/100\n",
            "32/32 [==============================] - 0s 2ms/step - loss: 8.0047e-05\n",
            "Epoch 29/100\n",
            "32/32 [==============================] - 0s 2ms/step - loss: 7.2895e-05\n",
            "Epoch 30/100\n",
            "32/32 [==============================] - 0s 2ms/step - loss: 6.5346e-05\n",
            "Epoch 31/100\n",
            "32/32 [==============================] - 0s 2ms/step - loss: 6.2852e-05\n",
            "Epoch 32/100\n",
            "32/32 [==============================] - 0s 3ms/step - loss: 6.0529e-05\n",
            "Epoch 33/100\n",
            "32/32 [==============================] - 0s 2ms/step - loss: 5.9100e-05\n",
            "Epoch 34/100\n",
            "32/32 [==============================] - 0s 2ms/step - loss: 5.5919e-05\n",
            "Epoch 35/100\n",
            "32/32 [==============================] - 0s 2ms/step - loss: 4.7099e-05\n",
            "Epoch 36/100\n",
            "32/32 [==============================] - 0s 2ms/step - loss: 4.6584e-05\n",
            "Epoch 37/100\n",
            "32/32 [==============================] - 0s 2ms/step - loss: 4.1038e-05\n",
            "Epoch 38/100\n",
            "32/32 [==============================] - 0s 2ms/step - loss: 4.0518e-05\n",
            "Epoch 39/100\n",
            "32/32 [==============================] - 0s 2ms/step - loss: 3.7820e-05\n",
            "Epoch 40/100\n",
            "32/32 [==============================] - 0s 2ms/step - loss: 3.5670e-05\n",
            "Epoch 41/100\n",
            "32/32 [==============================] - 0s 2ms/step - loss: 3.6534e-05\n",
            "Epoch 42/100\n",
            "32/32 [==============================] - 0s 2ms/step - loss: 3.1755e-05\n",
            "Epoch 43/100\n",
            "32/32 [==============================] - 0s 2ms/step - loss: 3.3334e-05\n",
            "Epoch 44/100\n",
            "32/32 [==============================] - 0s 2ms/step - loss: 2.8351e-05\n",
            "Epoch 45/100\n",
            "32/32 [==============================] - 0s 2ms/step - loss: 2.9362e-05\n",
            "Epoch 46/100\n",
            "32/32 [==============================] - 0s 2ms/step - loss: 2.6580e-05\n",
            "Epoch 47/100\n",
            "32/32 [==============================] - 0s 2ms/step - loss: 2.4965e-05\n",
            "Epoch 48/100\n",
            "32/32 [==============================] - 0s 2ms/step - loss: 2.4416e-05\n",
            "Epoch 49/100\n",
            "32/32 [==============================] - 0s 2ms/step - loss: 2.4217e-05\n",
            "Epoch 50/100\n",
            "32/32 [==============================] - 0s 2ms/step - loss: 2.1937e-05\n",
            "Epoch 51/100\n",
            "32/32 [==============================] - 0s 2ms/step - loss: 2.1188e-05\n",
            "Epoch 52/100\n",
            "32/32 [==============================] - 0s 2ms/step - loss: 2.0485e-05\n",
            "Epoch 53/100\n",
            "32/32 [==============================] - 0s 2ms/step - loss: 2.0231e-05\n",
            "Epoch 54/100\n",
            "32/32 [==============================] - 0s 2ms/step - loss: 1.9154e-05\n",
            "Epoch 55/100\n",
            "32/32 [==============================] - 0s 2ms/step - loss: 1.7916e-05\n",
            "Epoch 56/100\n",
            "32/32 [==============================] - 0s 2ms/step - loss: 1.7743e-05\n",
            "Epoch 57/100\n",
            "32/32 [==============================] - 0s 2ms/step - loss: 1.6984e-05\n",
            "Epoch 58/100\n",
            "32/32 [==============================] - 0s 2ms/step - loss: 1.6235e-05\n",
            "Epoch 59/100\n",
            "32/32 [==============================] - 0s 2ms/step - loss: 1.5408e-05\n",
            "Epoch 60/100\n",
            "32/32 [==============================] - 0s 2ms/step - loss: 1.5838e-05\n",
            "Epoch 61/100\n",
            "32/32 [==============================] - 0s 2ms/step - loss: 1.5219e-05\n",
            "Epoch 62/100\n",
            "32/32 [==============================] - 0s 2ms/step - loss: 1.3710e-05\n",
            "Epoch 63/100\n",
            "32/32 [==============================] - 0s 2ms/step - loss: 1.3506e-05\n",
            "Epoch 64/100\n",
            "32/32 [==============================] - 0s 2ms/step - loss: 1.2784e-05\n",
            "Epoch 65/100\n",
            "32/32 [==============================] - 0s 2ms/step - loss: 1.2446e-05\n",
            "Epoch 66/100\n",
            "32/32 [==============================] - 0s 2ms/step - loss: 1.2113e-05\n",
            "Epoch 67/100\n",
            "32/32 [==============================] - 0s 2ms/step - loss: 1.2325e-05\n",
            "Epoch 68/100\n",
            "32/32 [==============================] - 0s 2ms/step - loss: 1.1132e-05\n",
            "Epoch 69/100\n",
            "32/32 [==============================] - 0s 2ms/step - loss: 1.1134e-05\n",
            "Epoch 70/100\n",
            "32/32 [==============================] - 0s 2ms/step - loss: 1.0706e-05\n",
            "Epoch 71/100\n",
            "32/32 [==============================] - 0s 2ms/step - loss: 1.0345e-05\n",
            "Epoch 72/100\n",
            "32/32 [==============================] - 0s 2ms/step - loss: 9.9921e-06\n",
            "Epoch 73/100\n",
            "32/32 [==============================] - 0s 2ms/step - loss: 9.8221e-06\n",
            "Epoch 74/100\n",
            "32/32 [==============================] - 0s 2ms/step - loss: 9.2531e-06\n",
            "Epoch 75/100\n",
            "32/32 [==============================] - 0s 2ms/step - loss: 9.0685e-06\n",
            "Epoch 76/100\n",
            "32/32 [==============================] - 0s 2ms/step - loss: 8.6565e-06\n",
            "Epoch 77/100\n",
            "32/32 [==============================] - 0s 2ms/step - loss: 8.5044e-06\n",
            "Epoch 78/100\n",
            "32/32 [==============================] - 0s 2ms/step - loss: 8.2972e-06\n",
            "Epoch 79/100\n",
            "32/32 [==============================] - 0s 2ms/step - loss: 8.0862e-06\n",
            "Epoch 80/100\n",
            "32/32 [==============================] - 0s 2ms/step - loss: 7.8706e-06\n",
            "Epoch 81/100\n",
            "32/32 [==============================] - 0s 2ms/step - loss: 7.7651e-06\n",
            "Epoch 82/100\n",
            "32/32 [==============================] - 0s 2ms/step - loss: 7.3435e-06\n",
            "Epoch 83/100\n",
            "32/32 [==============================] - 0s 3ms/step - loss: 7.1754e-06\n",
            "Epoch 84/100\n",
            "32/32 [==============================] - 0s 2ms/step - loss: 6.9567e-06\n",
            "Epoch 85/100\n",
            "32/32 [==============================] - 0s 2ms/step - loss: 6.5650e-06\n",
            "Epoch 86/100\n",
            "32/32 [==============================] - 0s 2ms/step - loss: 6.4272e-06\n",
            "Epoch 87/100\n",
            "32/32 [==============================] - 0s 2ms/step - loss: 6.6199e-06\n",
            "Epoch 88/100\n",
            "32/32 [==============================] - 0s 2ms/step - loss: 5.8801e-06\n",
            "Epoch 89/100\n",
            "32/32 [==============================] - 0s 2ms/step - loss: 5.9802e-06\n",
            "Epoch 90/100\n",
            "32/32 [==============================] - 0s 2ms/step - loss: 5.7293e-06\n",
            "Epoch 91/100\n",
            "32/32 [==============================] - 0s 2ms/step - loss: 5.7664e-06\n",
            "Epoch 92/100\n",
            "32/32 [==============================] - 0s 2ms/step - loss: 5.4603e-06\n",
            "Epoch 93/100\n",
            "32/32 [==============================] - 0s 3ms/step - loss: 5.3933e-06\n",
            "Epoch 94/100\n",
            "32/32 [==============================] - 0s 2ms/step - loss: 5.2893e-06\n",
            "Epoch 95/100\n",
            "32/32 [==============================] - 0s 2ms/step - loss: 5.0671e-06\n",
            "Epoch 96/100\n",
            "32/32 [==============================] - 0s 2ms/step - loss: 4.9709e-06\n",
            "Epoch 97/100\n",
            "32/32 [==============================] - 0s 2ms/step - loss: 4.9508e-06\n",
            "Epoch 98/100\n",
            "32/32 [==============================] - 0s 2ms/step - loss: 4.7299e-06\n",
            "Epoch 99/100\n",
            "32/32 [==============================] - 0s 2ms/step - loss: 4.5593e-06\n",
            "Epoch 100/100\n",
            "32/32 [==============================] - 0s 2ms/step - loss: 4.4007e-06\n"
          ]
        },
        {
          "output_type": "execute_result",
          "data": {
            "text/plain": [
              "<keras.callbacks.History at 0x7fbe22276690>"
            ]
          },
          "metadata": {},
          "execution_count": 110
        }
      ]
    },
    {
      "cell_type": "code",
      "source": [
        "model.summary()"
      ],
      "metadata": {
        "colab": {
          "base_uri": "https://localhost:8080/"
        },
        "id": "-6bHuDc3MACD",
        "outputId": "0eba4def-aa99-4838-e21f-92dd94c4c8d7"
      },
      "execution_count": null,
      "outputs": [
        {
          "output_type": "stream",
          "name": "stdout",
          "text": [
            "Model: \"NN\"\n",
            "_________________________________________________________________\n",
            " Layer (type)                Output Shape              Param #   \n",
            "=================================================================\n",
            " dense_6 (Dense)             (None, 16)                144       \n",
            "                                                                 \n",
            " dense_7 (Dense)             (None, 8)                 136       \n",
            "                                                                 \n",
            " L3 (Dense)                  (None, 1)                 9         \n",
            "                                                                 \n",
            "=================================================================\n",
            "Total params: 289\n",
            "Trainable params: 289\n",
            "Non-trainable params: 0\n",
            "_________________________________________________________________\n"
          ]
        }
      ]
    },
    {
      "cell_type": "code",
      "source": [
        "def calc_cat_err(y, yhat):\n",
        "    \"\"\" \n",
        "    Calculate the categorization error\n",
        "    Args:\n",
        "      y    : (ndarray  Shape (m,) or (m,1))  target value of each example\n",
        "      yhat : (ndarray  Shape (m,) or (m,1))  predicted value of each example\n",
        "    Returns:|\n",
        "      cerr: (scalar)             \n",
        "    \"\"\"\n",
        "    m = len(y)\n",
        "    incorrect = 0\n",
        "    correct = 0\n",
        "    for i in range(m):\n",
        "        #print(f\"Before: {yhat[i]}, {y[i]}\")\n",
        "        if yhat[i] < 0.5:\n",
        "          yhat[i] = 0\n",
        "        else:\n",
        "          yhat[i] = 1\n",
        "        #print(f\"After: {yhat[i]}, {y[i]}\")  \n",
        "        if yhat[i] != y[i]:\n",
        "            incorrect += 1\n",
        "        else:\n",
        "            correct += 1\n",
        "    print(f\"\\n\\n\\nNumber of incorrect predictions: {incorrect}\")\n",
        "    print(f\"Correct predictions: {correct} out of {m}\\n\")\n",
        "    cerr = incorrect / m\n",
        "    return(cerr)"
      ],
      "metadata": {
        "id": "Ymr94EP2MAEQ"
      },
      "execution_count": null,
      "outputs": []
    },
    {
      "cell_type": "code",
      "source": [
        "training_classification_error = calc_cat_err(y_train, model.predict(X_train))\n",
        "test_classification_error = calc_cat_err(y_test, model.predict(X_test))\n",
        "print(f\"categorization error, training,    NN model: {training_classification_error:0.5f}\")\n",
        "print(f\"categorization error, test,        NN model: {test_classification_error:0.5f}\")"
      ],
      "metadata": {
        "colab": {
          "base_uri": "https://localhost:8080/"
        },
        "id": "_3M3myVEBM9k",
        "outputId": "f20db9d7-764b-4862-99a1-58a6dec31a3f"
      },
      "execution_count": null,
      "outputs": [
        {
          "output_type": "stream",
          "name": "stdout",
          "text": [
            "\n",
            "\n",
            "\n",
            "Number of incorrect predictions: 0\n",
            "Correct predictions: 1017 out of 1017\n",
            "\n",
            "\n",
            "\n",
            "\n",
            "Number of incorrect predictions: 0\n",
            "Correct predictions: 678 out of 678\n",
            "\n",
            "categorization error, training,    NN model: 0.00000\n",
            "categorization error, test,        NN model: 0.00000\n"
          ]
        }
      ]
    },
    {
      "cell_type": "markdown",
      "source": [
        "\n",
        "\n",
        "---\n",
        "\n",
        "\n",
        "The results above show the model has learned to perfectly detect outliers, even with a simple model architecture and relatively low number of epochs. This most likely means that at least one or more of the features is highly reactive to an outlier and thus the NN can easily tell the difference. But perhaps what makes this pattern so clear for the NN is the fact that it's getting labelled data. Let's investigate how unsupervised learning fairs with the same dataset\n",
        "\n",
        "\n",
        "\n",
        "\n"
      ],
      "metadata": {
        "id": "Oxd6ELDTixBm"
      }
    },
    {
      "cell_type": "markdown",
      "source": [
        "\n",
        "\n",
        "---\n",
        "\n"
      ],
      "metadata": {
        "id": "6-U2RRR3jysX"
      }
    },
    {
      "cell_type": "markdown",
      "source": [
        "First, let's investigate the anomaly detection model using multivariate gaussian norms"
      ],
      "metadata": {
        "id": "L3esxCnaTdQk"
      }
    },
    {
      "cell_type": "code",
      "source": [
        "# Calculates mean and variance of all features in the dataset\n",
        "def estimate_gaussian(X): \n",
        "    m, n = X.shape\n",
        "    mu = np.zeros(n)\n",
        "    var = np. zeros(n)\n",
        "    # Loops through every item in dataset\n",
        "    for i in range(m):\n",
        "        # Loops through each feature in a specific item\n",
        "        for j in range(n):\n",
        "            mu[j] += (X[i][j] / m)\n",
        "    \n",
        "    for i in range(m):\n",
        "        for j in range(n):\n",
        "            var[j] += ((X[i][j] - mu[j])**2) / m\n",
        "        \n",
        "    return mu, var"
      ],
      "metadata": {
        "id": "5iOeR_r4BNDX"
      },
      "execution_count": null,
      "outputs": []
    },
    {
      "cell_type": "code",
      "source": [
        "# Returns the density of the multivariate normal at each data point of X_train\n",
        "def calc_multivariate_gaussian(X, mu, var):\n",
        "    mvn = tfp.distributions.MultivariateNormalDiag(\n",
        "        loc=mu,\n",
        "        scale_diag=var)\n",
        "    p = mvn.prob(X).numpy()\n",
        "    \n",
        "    return p"
      ],
      "metadata": {
        "id": "0VZ2Y9ynBNGI"
      },
      "execution_count": null,
      "outputs": []
    },
    {
      "cell_type": "code",
      "source": [
        "# Finds the best threshold to use for selecting outliers based on the results \n",
        "# from a validation set (p_val) and the ground truth (y_val)\n",
        "def select_threshold(y_val, p_val): \n",
        "    counter = 0\n",
        "    best_epsilon = 0\n",
        "    best_F1 = 0\n",
        "    F1 = 0\n",
        "    true_pos = 0\n",
        "    false_pos = 0\n",
        "    false_neg = 0\n",
        "    m = p_val.shape[0]\n",
        "    step_size = (max(p_val) - min(p_val)) / 1000\n",
        "\n",
        "    for epsilon in np.arange(min(p_val), max(p_val), step_size):\n",
        "        p_decision = np.zeros(m)\n",
        "        tp = 0\n",
        "        fp = 0\n",
        "        fn = 0\n",
        "        \n",
        "        for i in range(m):\n",
        "            # Turns probability values into decision based on epsilon value\n",
        "            if p_val[i] < epsilon:\n",
        "                p_decision[i] = 1\n",
        "                \n",
        "            # Checks the predicted decision against the ground truth    \n",
        "            if p_decision[i] and y_val[i] == 1:\n",
        "                tp += 1\n",
        "            else:\n",
        "                # Checks for false positive (predict 1, actual is 0)\n",
        "                if p_decision[i] > y_val[i]:\n",
        "                    fp += 1\n",
        "                # Checks for false negative (predict 0, actual is 1)\n",
        "                elif p_decision[i] < y_val[i]:\n",
        "                    fn += 1\n",
        "        if tp != 0:\n",
        "            prec = tp / (tp + fp)\n",
        "            rec = tp / (tp + fn)\n",
        "            F1 = (2*prec*rec) / (prec + rec)\n",
        "        else:\n",
        "            F1 = 0\n",
        "\n",
        "        if F1 > best_F1:\n",
        "            best_F1 = F1\n",
        "            best_epsilon = epsilon\n",
        "            true_pos = tp\n",
        "            false_pos = fp\n",
        "            false_neg = fn\n",
        "        \n",
        "    return best_epsilon, best_F1, true_pos, false_pos, false_neg"
      ],
      "metadata": {
        "id": "FmE5a7ZaBNKi"
      },
      "execution_count": null,
      "outputs": []
    },
    {
      "cell_type": "markdown",
      "source": [
        "\n",
        "\n",
        "---\n",
        "\n"
      ],
      "metadata": {
        "id": "jbpoQgbUkm2I"
      }
    },
    {
      "cell_type": "markdown",
      "source": [
        "Before we begin to implement the gaussian model, we need to look into the data features to see the kind of distribution they each have."
      ],
      "metadata": {
        "id": "4oNc0RNxkTog"
      }
    },
    {
      "cell_type": "code",
      "source": [
        "for i in range(X_raw.shape[1]):\n",
        "  plt.hist(X_raw[:,i], bins=100)\n",
        "  plt.show()"
      ],
      "metadata": {
        "colab": {
          "base_uri": "https://localhost:8080/",
          "height": 1000
        },
        "id": "6i_pT2ApkK4u",
        "outputId": "a1824cec-a964-4db7-c66d-da7bded5e89e"
      },
      "execution_count": null,
      "outputs": [
        {
          "output_type": "display_data",
          "data": {
            "text/plain": [
              "<Figure size 432x288 with 1 Axes>"
            ],
            "image/png": "[encoded data removed]"
          },
          "metadata": {
            "needs_background": "light"
          }
        },
        {
          "output_type": "display_data",
          "data": {
            "text/plain": [
              "<Figure size 432x288 with 1 Axes>"
            ],
            "image/png": "[encoded data removed]"
          },
          "metadata": {
            "needs_background": "light"
          }
        },
        {
          "output_type": "display_data",
          "data": {
            "text/plain": [
              "<Figure size 432x288 with 1 Axes>"
            ],
            "image/png": "[encoded data removed]"
          },
          "metadata": {
            "needs_background": "light"
          }
        },
        {
          "output_type": "display_data",
          "data": {
            "text/plain": [
              "<Figure size 432x288 with 1 Axes>"
            ],
            "image/png": "[encoded data removed]"
          },
          "metadata": {
            "needs_background": "light"
          }
        },
        {
          "output_type": "display_data",
          "data": {
            "text/plain": [
              "<Figure size 432x288 with 1 Axes>"
            ],
            "image/png": "[encoded data removed]"
          },
          "metadata": {
            "needs_background": "light"
          }
        },
        {
          "output_type": "display_data",
          "data": {
            "text/plain": [
              "<Figure size 432x288 with 1 Axes>"
            ],
            "image/png": "[encoded data removed]"
          },
          "metadata": {
            "needs_background": "light"
          }
        },
        {
          "output_type": "display_data",
          "data": {
            "text/plain": [
              "<Figure size 432x288 with 1 Axes>"
            ],
            "image/png": "[encoded data removed]"
          },
          "metadata": {
            "needs_background": "light"
          }
        },
        {
          "output_type": "display_data",
          "data": {
            "text/plain": [
              "<Figure size 432x288 with 1 Axes>"
            ],
            "image/png": "[encoded data removed]"
          },
          "metadata": {
            "needs_background": "light"
          }
        }
      ]
    },
    {
      "cell_type": "markdown",
      "source": [
        "The above are the original (not z-score adjusted) distributions for each of the features. All of them seem to be heavily skewed."
      ],
      "metadata": {
        "id": "u_uTyUa6k6jL"
      }
    },
    {
      "cell_type": "markdown",
      "source": [
        "\n",
        "\n",
        "---\n",
        "\n",
        "\n",
        "Let's see how a log transformation does to get the features closer to a normal distribution\n"
      ],
      "metadata": {
        "id": "c-4rseOslQ5z"
      }
    },
    {
      "cell_type": "code",
      "source": [
        "# Add a very small amount to the log to prevent any log(0) errors\n",
        "# Only performing the log function of the first 7 columns as the last column is binary\n",
        "X_log = X_raw\n",
        "for i in range(7):\n",
        "  X_log[:,i] = np.log(X_raw[:,i] + 0.00000001)"
      ],
      "metadata": {
        "id": "pjgEYvFe5D90"
      },
      "execution_count": null,
      "outputs": []
    },
    {
      "cell_type": "code",
      "source": [
        "for i in range(X_log.shape[1]):\n",
        "  plt.hist(X_log[:,i], bins=100)\n",
        "  plt.show()"
      ],
      "metadata": {
        "colab": {
          "base_uri": "https://localhost:8080/",
          "height": 1000
        },
        "id": "enFMY7lQ6DZi",
        "outputId": "9eaa70a4-0b8e-4e08-b235-e442ffcd31c9"
      },
      "execution_count": null,
      "outputs": [
        {
          "output_type": "display_data",
          "data": {
            "text/plain": [
              "<Figure size 432x288 with 1 Axes>"
            ],
            "image/png": "[encoded data removed]"
          },
          "metadata": {
            "needs_background": "light"
          }
        },
        {
          "output_type": "display_data",
          "data": {
            "text/plain": [
              "<Figure size 432x288 with 1 Axes>"
            ],
            "image/png": "[encoded data removed]"
          },
          "metadata": {
            "needs_background": "light"
          }
        },
        {
          "output_type": "display_data",
          "data": {
            "text/plain": [
              "<Figure size 432x288 with 1 Axes>"
            ],
            "image/png": "[encoded data removed]"
          },
          "metadata": {
            "needs_background": "light"
          }
        },
        {
          "output_type": "display_data",
          "data": {
            "text/plain": [
              "<Figure size 432x288 with 1 Axes>"
            ],
            "image/png": "[encoded data removed]"
          },
          "metadata": {
            "needs_background": "light"
          }
        },
        {
          "output_type": "display_data",
          "data": {
            "text/plain": [
              "<Figure size 432x288 with 1 Axes>"
            ],
            "image/png": "[encoded data removed]"
          },
          "metadata": {
            "needs_background": "light"
          }
        },
        {
          "output_type": "display_data",
          "data": {
            "text/plain": [
              "<Figure size 432x288 with 1 Axes>"
            ],
            "image/png": "[encoded data removed]"
          },
          "metadata": {
            "needs_background": "light"
          }
        },
        {
          "output_type": "display_data",
          "data": {
            "text/plain": [
              "<Figure size 432x288 with 1 Axes>"
            ],
            "image/png": "[encoded data removed]"
          },
          "metadata": {
            "needs_background": "light"
          }
        },
        {
          "output_type": "display_data",
          "data": {
            "text/plain": [
              "<Figure size 432x288 with 1 Axes>"
            ],
            "image/png": "[encoded data removed]"
          },
          "metadata": {
            "needs_background": "light"
          }
        }
      ]
    },
    {
      "cell_type": "markdown",
      "source": [
        "While far from perfect (notice the double peaks for multiple features), this gets the data closer to a normal distribution than the original. Let's perform the z-score normalization once again."
      ],
      "metadata": {
        "id": "iCQoQWnUmA6a"
      }
    },
    {
      "cell_type": "code",
      "source": [
        "X_log_z = stats.zscore(X_log, axis=0)"
      ],
      "metadata": {
        "id": "Xxb1xGUr6SGN"
      },
      "execution_count": null,
      "outputs": []
    },
    {
      "cell_type": "code",
      "source": [
        "X_train_1, X_val, y_train_1, y_val = train_test_split(X_log_z,y,test_size=0.4, random_state=1)\n",
        "print(\"X_train_1.shape\", X_train_1.shape)\n",
        "print(\"X_val.shape\", X_val.shape, \"y_val.shape\", y_val.shape)"
      ],
      "metadata": {
        "colab": {
          "base_uri": "https://localhost:8080/"
        },
        "id": "VIOY8uFvIrOe",
        "outputId": "0458dab9-fabd-4a72-a65e-fbf860dfc594"
      },
      "execution_count": null,
      "outputs": [
        {
          "output_type": "stream",
          "name": "stdout",
          "text": [
            "X_train_1.shape (1017, 8)\n",
            "X_val.shape (678, 8) y_val.shape (678,)\n"
          ]
        }
      ]
    },
    {
      "cell_type": "code",
      "source": [
        "# Estimate the Gaussian parameters\n",
        "mu, var = estimate_gaussian(X_train_1)    \n",
        "\n",
        "# Evaluate the probabilites for the validation set\n",
        "p_val = calc_multivariate_gaussian(X_val, mu, var)\n",
        "\n",
        "# Evaluate the probabilites for the test set\n",
        "p = calc_multivariate_gaussian(X_train_1, mu, var)"
      ],
      "metadata": {
        "id": "XzkdA7VrXiHq"
      },
      "execution_count": null,
      "outputs": []
    },
    {
      "cell_type": "code",
      "source": [
        "# Find the best threshold\n",
        "epsilon, F1, tp, fp, fn = select_threshold(y_val, p_val)\n",
        "anomalies = sum(p_val < epsilon)\n",
        "print('Best epsilon found using cross-validation: %e'% epsilon)\n",
        "print('Best F1 on Cross Validation Set:  %f'% F1)\n",
        "print('Model Reported Anomalies: %d'% anomalies)\n",
        "actual_anomalies = np.count_nonzero(y_val == 1)\n",
        "print(f\"Actual Number of Anomalies: {actual_anomalies}\")"
      ],
      "metadata": {
        "id": "mDGN1GCqBNSJ",
        "colab": {
          "base_uri": "https://localhost:8080/"
        },
        "outputId": "ff0eeb68-b696-4b91-deb2-a1afc06a1117"
      },
      "execution_count": null,
      "outputs": [
        {
          "output_type": "stream",
          "name": "stdout",
          "text": [
            "Best epsilon found using cross-validation: 8.951474e-06\n",
            "Best F1 on Cross Validation Set:  0.802444\n",
            "Model Reported Anomalies: 267\n",
            "Actual Number of Anomalies: 224\n"
          ]
        }
      ]
    },
    {
      "cell_type": "code",
      "source": [
        "print(\"Cross Validation Sample Results\")\n",
        "print(f\"True positives = {tp}\")\n",
        "print(f\"False positives = {fp}\")\n",
        "print(f\"False negatives = {fn}\")"
      ],
      "metadata": {
        "id": "4weT4xmTBNWq",
        "colab": {
          "base_uri": "https://localhost:8080/"
        },
        "outputId": "951a855e-1977-4fac-84a5-e39cb32a7064"
      },
      "execution_count": null,
      "outputs": [
        {
          "output_type": "stream",
          "name": "stdout",
          "text": [
            "Cross Validation Sample Results\n",
            "True positives = 197\n",
            "False positives = 70\n",
            "False negatives = 27\n"
          ]
        }
      ]
    },
    {
      "cell_type": "markdown",
      "source": [
        "\n",
        "\n",
        "---\n",
        "\n"
      ],
      "metadata": {
        "id": "Ntn3bGfkmurf"
      }
    },
    {
      "cell_type": "markdown",
      "source": [
        "The results above are not encouraging. Even with the optimal epsilon, the number of false positives and false negatives is much too high. Perhaps since this is unsupervised learning, the model simply does not have enough data to get a good grasp of what is an outlier and what isn't.\n",
        "\n"
      ],
      "metadata": {
        "id": "dyjArEpOmv9J"
      }
    },
    {
      "cell_type": "markdown",
      "source": [
        "Let's try training it on a much larger dataset. This dataset is nearly 20 times bigger than the previous one."
      ],
      "metadata": {
        "id": "KC818ogCKuqd"
      }
    },
    {
      "cell_type": "code",
      "source": [
        "df_large_raw = pd.read_csv(\"remaining_behavior_ext.csv\")"
      ],
      "metadata": {
        "id": "PdQESbSIKzDB"
      },
      "execution_count": null,
      "outputs": []
    },
    {
      "cell_type": "code",
      "source": [
        "df_large_raw.head(5)"
      ],
      "metadata": {
        "colab": {
          "base_uri": "https://localhost:8080/",
          "height": 531
        },
        "id": "2CIzmwkYK40O",
        "outputId": "0ce9f1f0-5640-41b9-f0bb-01b46af7fb09"
      },
      "execution_count": null,
      "outputs": [
        {
          "output_type": "execute_result",
          "data": {
            "text/plain": [
              "   Unnamed: 0                                   _id  \\\n",
              "0           0  024aae60-1a81-3f37-bbe6-3f832c919706   \n",
              "1           1  028d67dd-c6d0-329f-a20e-78db9eab7a55   \n",
              "2           2  02d12bf9-5fe2-3d0c-b233-30e02224b686   \n",
              "3           3  0b3aee1e-dc3b-3728-bc55-f57a23446b3d   \n",
              "4           4  0dbfffb4-3ed4-3cb2-904d-c348501a996e   \n",
              "\n",
              "   inter_api_access_duration(sec)  api_access_uniqueness  \\\n",
              "0                        7.010387               0.419355   \n",
              "1                       51.419393               0.252336   \n",
              "2                       25.860775               0.275000   \n",
              "3                        0.205909               0.818182   \n",
              "4                        0.122125               0.812500   \n",
              "\n",
              "   sequence_length(count)  vsession_duration(min)  ip_type behavior  \\\n",
              "0                    31.0                   13040  default  outlier   \n",
              "1                   107.0                  330113  default  outlier   \n",
              "2                    40.0                   62066  default  outlier   \n",
              "3                    11.0                     136  default  outlier   \n",
              "4                    16.0                     118  default  outlier   \n",
              "\n",
              "  behavior_type  num_sessions  num_users  num_unique_apis source  \n",
              "0       outlier           1.0        1.0             13.0      E  \n",
              "1       outlier           1.0        1.0             27.0      E  \n",
              "2       outlier           1.0        1.0             11.0      E  \n",
              "3       outlier           1.0        1.0              9.0      E  \n",
              "4       outlier           1.0        1.0             13.0      E  "
            ],
            "text/html": [
              "\n",
              "  <div id=\"df-c0c8194a-e76d-46e3-a5cb-7e6bb5454843\">\n",
              "    <div class=\"colab-df-container\">\n",
              "      <div>\n",
              "<style scoped>\n",
              "    .dataframe tbody tr th:only-of-type {\n",
              "        vertical-align: middle;\n",
              "    }\n",
              "\n",
              "    .dataframe tbody tr th {\n",
              "        vertical-align: top;\n",
              "    }\n",
              "\n",
              "    .dataframe thead th {\n",
              "        text-align: right;\n",
              "    }\n",
              "</style>\n",
              "<table border=\"1\" class=\"dataframe\">\n",
              "  <thead>\n",
              "    <tr style=\"text-align: right;\">\n",
              "      <th></th>\n",
              "      <th>Unnamed: 0</th>\n",
              "      <th>_id</th>\n",
              "      <th>inter_api_access_duration(sec)</th>\n",
              "      <th>api_access_uniqueness</th>\n",
              "      <th>sequence_length(count)</th>\n",
              "      <th>vsession_duration(min)</th>\n",
              "      <th>ip_type</th>\n",
              "      <th>behavior</th>\n",
              "      <th>behavior_type</th>\n",
              "      <th>num_sessions</th>\n",
              "      <th>num_users</th>\n",
              "      <th>num_unique_apis</th>\n",
              "      <th>source</th>\n",
              "    </tr>\n",
              "  </thead>\n",
              "  <tbody>\n",
              "    <tr>\n",
              "      <th>0</th>\n",
              "      <td>0</td>\n",
              "      <td>024aae60-1a81-3f37-bbe6-3f832c919706</td>\n",
              "      <td>7.010387</td>\n",
              "      <td>0.419355</td>\n",
              "      <td>31.0</td>\n",
              "      <td>13040</td>\n",
              "      <td>default</td>\n",
              "      <td>outlier</td>\n",
              "      <td>outlier</td>\n",
              "      <td>1.0</td>\n",
              "      <td>1.0</td>\n",
              "      <td>13.0</td>\n",
              "      <td>E</td>\n",
              "    </tr>\n",
              "    <tr>\n",
              "      <th>1</th>\n",
              "      <td>1</td>\n",
              "      <td>028d67dd-c6d0-329f-a20e-78db9eab7a55</td>\n",
              "      <td>51.419393</td>\n",
              "      <td>0.252336</td>\n",
              "      <td>107.0</td>\n",
              "      <td>330113</td>\n",
              "      <td>default</td>\n",
              "      <td>outlier</td>\n",
              "      <td>outlier</td>\n",
              "      <td>1.0</td>\n",
              "      <td>1.0</td>\n",
              "      <td>27.0</td>\n",
              "      <td>E</td>\n",
              "    </tr>\n",
              "    <tr>\n",
              "      <th>2</th>\n",
              "      <td>2</td>\n",
              "      <td>02d12bf9-5fe2-3d0c-b233-30e02224b686</td>\n",
              "      <td>25.860775</td>\n",
              "      <td>0.275000</td>\n",
              "      <td>40.0</td>\n",
              "      <td>62066</td>\n",
              "      <td>default</td>\n",
              "      <td>outlier</td>\n",
              "      <td>outlier</td>\n",
              "      <td>1.0</td>\n",
              "      <td>1.0</td>\n",
              "      <td>11.0</td>\n",
              "      <td>E</td>\n",
              "    </tr>\n",
              "    <tr>\n",
              "      <th>3</th>\n",
              "      <td>3</td>\n",
              "      <td>0b3aee1e-dc3b-3728-bc55-f57a23446b3d</td>\n",
              "      <td>0.205909</td>\n",
              "      <td>0.818182</td>\n",
              "      <td>11.0</td>\n",
              "      <td>136</td>\n",
              "      <td>default</td>\n",
              "      <td>outlier</td>\n",
              "      <td>outlier</td>\n",
              "      <td>1.0</td>\n",
              "      <td>1.0</td>\n",
              "      <td>9.0</td>\n",
              "      <td>E</td>\n",
              "    </tr>\n",
              "    <tr>\n",
              "      <th>4</th>\n",
              "      <td>4</td>\n",
              "      <td>0dbfffb4-3ed4-3cb2-904d-c348501a996e</td>\n",
              "      <td>0.122125</td>\n",
              "      <td>0.812500</td>\n",
              "      <td>16.0</td>\n",
              "      <td>118</td>\n",
              "      <td>default</td>\n",
              "      <td>outlier</td>\n",
              "      <td>outlier</td>\n",
              "      <td>1.0</td>\n",
              "      <td>1.0</td>\n",
              "      <td>13.0</td>\n",
              "      <td>E</td>\n",
              "    </tr>\n",
              "  </tbody>\n",
              "</table>\n",
              "</div>\n",
              "      <button class=\"colab-df-convert\" onclick=\"convertToInteractive('df-c0c8194a-e76d-46e3-a5cb-7e6bb5454843')\"\n",
              "              title=\"Convert this dataframe to an interactive table.\"\n",
              "              style=\"display:none;\">\n",
              "        \n",
              "  <svg xmlns=\"http://www.w3.org/2000/svg\" height=\"24px\"viewBox=\"0 0 24 24\"\n",
              "       width=\"24px\">\n",
              "    <path d=\"M0 0h24v24H0V0z\" fill=\"none\"/>\n",
              "    <path d=\"M18.56 5.44l.94 2.06.94-2.06 2.06-.94-2.06-.94-.94-2.06-.94 2.06-2.06.94zm-11 1L8.5 8.5l.94-2.06 2.06-.94-2.06-.94L8.5 2.5l-.94 2.06-2.06.94zm10 10l.94 2.06.94-2.06 2.06-.94-2.06-.94-.94-2.06-.94 2.06-2.06.94z\"/><path d=\"M17.41 7.96l-1.37-1.37c-.4-.4-.92-.59-1.43-.59-.52 0-1.04.2-1.43.59L10.3 9.45l-7.72 7.72c-.78.78-.78 2.05 0 2.83L4 21.41c.39.39.9.59 1.41.59.51 0 1.02-.2 1.41-.59l7.78-7.78 2.81-2.81c.8-.78.8-2.07 0-2.86zM5.41 20L4 18.59l7.72-7.72 1.47 1.35L5.41 20z\"/>\n",
              "  </svg>\n",
              "      </button>\n",
              "      \n",
              "  <style>\n",
              "    .colab-df-container {\n",
              "      display:flex;\n",
              "      flex-wrap:wrap;\n",
              "      gap: 12px;\n",
              "    }\n",
              "\n",
              "    .colab-df-convert {\n",
              "      background-color: #E8F0FE;\n",
              "      border: none;\n",
              "      border-radius: 50%;\n",
              "      cursor: pointer;\n",
              "      display: none;\n",
              "      fill: #1967D2;\n",
              "      height: 32px;\n",
              "      padding: 0 0 0 0;\n",
              "      width: 32px;\n",
              "    }\n",
              "\n",
              "    .colab-df-convert:hover {\n",
              "      background-color: #E2EBFA;\n",
              "      box-shadow: 0px 1px 2px rgba(60, 64, 67, 0.3), 0px 1px 3px 1px rgba(60, 64, 67, 0.15);\n",
              "      fill: #174EA6;\n",
              "    }\n",
              "\n",
              "    [theme=dark] .colab-df-convert {\n",
              "      background-color: #3B4455;\n",
              "      fill: #D2E3FC;\n",
              "    }\n",
              "\n",
              "    [theme=dark] .colab-df-convert:hover {\n",
              "      background-color: #434B5C;\n",
              "      box-shadow: 0px 1px 3px 1px rgba(0, 0, 0, 0.15);\n",
              "      filter: drop-shadow(0px 1px 2px rgba(0, 0, 0, 0.3));\n",
              "      fill: #FFFFFF;\n",
              "    }\n",
              "  </style>\n",
              "\n",
              "      <script>\n",
              "        const buttonEl =\n",
              "          document.querySelector('#df-c0c8194a-e76d-46e3-a5cb-7e6bb5454843 button.colab-df-convert');\n",
              "        buttonEl.style.display =\n",
              "          google.colab.kernel.accessAllowed ? 'block' : 'none';\n",
              "\n",
              "        async function convertToInteractive(key) {\n",
              "          const element = document.querySelector('#df-c0c8194a-e76d-46e3-a5cb-7e6bb5454843');\n",
              "          const dataTable =\n",
              "            await google.colab.kernel.invokeFunction('convertToInteractive',\n",
              "                                                     [key], {});\n",
              "          if (!dataTable) return;\n",
              "\n",
              "          const docLinkHtml = 'Like what you see? Visit the ' +\n",
              "            '<a target=\"_blank\" href=https://colab.research.google.com/notebooks/data_table.ipynb>data table notebook</a>'\n",
              "            + ' to learn more about interactive tables.';\n",
              "          element.innerHTML = '';\n",
              "          dataTable['output_type'] = 'display_data';\n",
              "          await google.colab.output.renderOutput(dataTable, element);\n",
              "          const docLink = document.createElement('div');\n",
              "          docLink.innerHTML = docLinkHtml;\n",
              "          element.appendChild(docLink);\n",
              "        }\n",
              "      </script>\n",
              "    </div>\n",
              "  </div>\n",
              "  "
            ]
          },
          "metadata": {},
          "execution_count": 127
        }
      ]
    },
    {
      "cell_type": "code",
      "source": [
        "df_large_raw.duplicated().values.any()"
      ],
      "metadata": {
        "colab": {
          "base_uri": "https://localhost:8080/"
        },
        "id": "MajJbnR6LBXl",
        "outputId": "de534e28-97d4-4899-b37e-18ccbfc4be37"
      },
      "execution_count": null,
      "outputs": [
        {
          "output_type": "execute_result",
          "data": {
            "text/plain": [
              "False"
            ]
          },
          "metadata": {},
          "execution_count": 128
        }
      ]
    },
    {
      "cell_type": "code",
      "source": [
        "df_large_raw.isna().values.any()"
      ],
      "metadata": {
        "colab": {
          "base_uri": "https://localhost:8080/"
        },
        "id": "yaEZVViyLVnM",
        "outputId": "73160f5a-64fc-499f-83fd-e28352cf3c27"
      },
      "execution_count": null,
      "outputs": [
        {
          "output_type": "execute_result",
          "data": {
            "text/plain": [
              "True"
            ]
          },
          "metadata": {},
          "execution_count": 129
        }
      ]
    },
    {
      "cell_type": "code",
      "source": [
        "nan_rows = df_large_raw[df_large_raw.isna().values == True]\n",
        "nan_rows.head(10)"
      ],
      "metadata": {
        "colab": {
          "base_uri": "https://localhost:8080/",
          "height": 298
        },
        "id": "DrCN-2sWLYCd",
        "outputId": "f9b3c4e9-e028-4005-bd90-d7fc8b1f776c"
      },
      "execution_count": null,
      "outputs": [
        {
          "output_type": "execute_result",
          "data": {
            "text/plain": [
              "       Unnamed: 0                                   _id  \\\n",
              "10642       10642  129e3eea-880a-3a7c-8931-b133d1a06397   \n",
              "10642       10642  129e3eea-880a-3a7c-8931-b133d1a06397   \n",
              "\n",
              "       inter_api_access_duration(sec)  api_access_uniqueness  \\\n",
              "10642                             NaN                    NaN   \n",
              "10642                             NaN                    NaN   \n",
              "\n",
              "       sequence_length(count)  vsession_duration(min)  ip_type behavior  \\\n",
              "10642                     0.0                       3  default  outlier   \n",
              "10642                     0.0                       3  default  outlier   \n",
              "\n",
              "      behavior_type  num_sessions  num_users  num_unique_apis source  \n",
              "10642       outlier           2.0        1.0              0.0      E  \n",
              "10642       outlier           2.0        1.0              0.0      E  "
            ],
            "text/html": [
              "\n",
              "  <div id=\"df-19721eeb-59e4-43b9-ae6a-ee62270d3a3b\">\n",
              "    <div class=\"colab-df-container\">\n",
              "      <div>\n",
              "<style scoped>\n",
              "    .dataframe tbody tr th:only-of-type {\n",
              "        vertical-align: middle;\n",
              "    }\n",
              "\n",
              "    .dataframe tbody tr th {\n",
              "        vertical-align: top;\n",
              "    }\n",
              "\n",
              "    .dataframe thead th {\n",
              "        text-align: right;\n",
              "    }\n",
              "</style>\n",
              "<table border=\"1\" class=\"dataframe\">\n",
              "  <thead>\n",
              "    <tr style=\"text-align: right;\">\n",
              "      <th></th>\n",
              "      <th>Unnamed: 0</th>\n",
              "      <th>_id</th>\n",
              "      <th>inter_api_access_duration(sec)</th>\n",
              "      <th>api_access_uniqueness</th>\n",
              "      <th>sequence_length(count)</th>\n",
              "      <th>vsession_duration(min)</th>\n",
              "      <th>ip_type</th>\n",
              "      <th>behavior</th>\n",
              "      <th>behavior_type</th>\n",
              "      <th>num_sessions</th>\n",
              "      <th>num_users</th>\n",
              "      <th>num_unique_apis</th>\n",
              "      <th>source</th>\n",
              "    </tr>\n",
              "  </thead>\n",
              "  <tbody>\n",
              "    <tr>\n",
              "      <th>10642</th>\n",
              "      <td>10642</td>\n",
              "      <td>129e3eea-880a-3a7c-8931-b133d1a06397</td>\n",
              "      <td>NaN</td>\n",
              "      <td>NaN</td>\n",
              "      <td>0.0</td>\n",
              "      <td>3</td>\n",
              "      <td>default</td>\n",
              "      <td>outlier</td>\n",
              "      <td>outlier</td>\n",
              "      <td>2.0</td>\n",
              "      <td>1.0</td>\n",
              "      <td>0.0</td>\n",
              "      <td>E</td>\n",
              "    </tr>\n",
              "    <tr>\n",
              "      <th>10642</th>\n",
              "      <td>10642</td>\n",
              "      <td>129e3eea-880a-3a7c-8931-b133d1a06397</td>\n",
              "      <td>NaN</td>\n",
              "      <td>NaN</td>\n",
              "      <td>0.0</td>\n",
              "      <td>3</td>\n",
              "      <td>default</td>\n",
              "      <td>outlier</td>\n",
              "      <td>outlier</td>\n",
              "      <td>2.0</td>\n",
              "      <td>1.0</td>\n",
              "      <td>0.0</td>\n",
              "      <td>E</td>\n",
              "    </tr>\n",
              "  </tbody>\n",
              "</table>\n",
              "</div>\n",
              "      <button class=\"colab-df-convert\" onclick=\"convertToInteractive('df-19721eeb-59e4-43b9-ae6a-ee62270d3a3b')\"\n",
              "              title=\"Convert this dataframe to an interactive table.\"\n",
              "              style=\"display:none;\">\n",
              "        \n",
              "  <svg xmlns=\"http://www.w3.org/2000/svg\" height=\"24px\"viewBox=\"0 0 24 24\"\n",
              "       width=\"24px\">\n",
              "    <path d=\"M0 0h24v24H0V0z\" fill=\"none\"/>\n",
              "    <path d=\"M18.56 5.44l.94 2.06.94-2.06 2.06-.94-2.06-.94-.94-2.06-.94 2.06-2.06.94zm-11 1L8.5 8.5l.94-2.06 2.06-.94-2.06-.94L8.5 2.5l-.94 2.06-2.06.94zm10 10l.94 2.06.94-2.06 2.06-.94-2.06-.94-.94-2.06-.94 2.06-2.06.94z\"/><path d=\"M17.41 7.96l-1.37-1.37c-.4-.4-.92-.59-1.43-.59-.52 0-1.04.2-1.43.59L10.3 9.45l-7.72 7.72c-.78.78-.78 2.05 0 2.83L4 21.41c.39.39.9.59 1.41.59.51 0 1.02-.2 1.41-.59l7.78-7.78 2.81-2.81c.8-.78.8-2.07 0-2.86zM5.41 20L4 18.59l7.72-7.72 1.47 1.35L5.41 20z\"/>\n",
              "  </svg>\n",
              "      </button>\n",
              "      \n",
              "  <style>\n",
              "    .colab-df-container {\n",
              "      display:flex;\n",
              "      flex-wrap:wrap;\n",
              "      gap: 12px;\n",
              "    }\n",
              "\n",
              "    .colab-df-convert {\n",
              "      background-color: #E8F0FE;\n",
              "      border: none;\n",
              "      border-radius: 50%;\n",
              "      cursor: pointer;\n",
              "      display: none;\n",
              "      fill: #1967D2;\n",
              "      height: 32px;\n",
              "      padding: 0 0 0 0;\n",
              "      width: 32px;\n",
              "    }\n",
              "\n",
              "    .colab-df-convert:hover {\n",
              "      background-color: #E2EBFA;\n",
              "      box-shadow: 0px 1px 2px rgba(60, 64, 67, 0.3), 0px 1px 3px 1px rgba(60, 64, 67, 0.15);\n",
              "      fill: #174EA6;\n",
              "    }\n",
              "\n",
              "    [theme=dark] .colab-df-convert {\n",
              "      background-color: #3B4455;\n",
              "      fill: #D2E3FC;\n",
              "    }\n",
              "\n",
              "    [theme=dark] .colab-df-convert:hover {\n",
              "      background-color: #434B5C;\n",
              "      box-shadow: 0px 1px 3px 1px rgba(0, 0, 0, 0.15);\n",
              "      filter: drop-shadow(0px 1px 2px rgba(0, 0, 0, 0.3));\n",
              "      fill: #FFFFFF;\n",
              "    }\n",
              "  </style>\n",
              "\n",
              "      <script>\n",
              "        const buttonEl =\n",
              "          document.querySelector('#df-19721eeb-59e4-43b9-ae6a-ee62270d3a3b button.colab-df-convert');\n",
              "        buttonEl.style.display =\n",
              "          google.colab.kernel.accessAllowed ? 'block' : 'none';\n",
              "\n",
              "        async function convertToInteractive(key) {\n",
              "          const element = document.querySelector('#df-19721eeb-59e4-43b9-ae6a-ee62270d3a3b');\n",
              "          const dataTable =\n",
              "            await google.colab.kernel.invokeFunction('convertToInteractive',\n",
              "                                                     [key], {});\n",
              "          if (!dataTable) return;\n",
              "\n",
              "          const docLinkHtml = 'Like what you see? Visit the ' +\n",
              "            '<a target=\"_blank\" href=https://colab.research.google.com/notebooks/data_table.ipynb>data table notebook</a>'\n",
              "            + ' to learn more about interactive tables.';\n",
              "          element.innerHTML = '';\n",
              "          dataTable['output_type'] = 'display_data';\n",
              "          await google.colab.output.renderOutput(dataTable, element);\n",
              "          const docLink = document.createElement('div');\n",
              "          docLink.innerHTML = docLinkHtml;\n",
              "          element.appendChild(docLink);\n",
              "        }\n",
              "      </script>\n",
              "    </div>\n",
              "  </div>\n",
              "  "
            ]
          },
          "metadata": {},
          "execution_count": 130
        }
      ]
    },
    {
      "cell_type": "code",
      "source": [
        "df_lg_clean = df_large_raw.drop(nan_rows.index)\n",
        "df_lg_clean.shape"
      ],
      "metadata": {
        "colab": {
          "base_uri": "https://localhost:8080/"
        },
        "id": "MrpeFPfVLq0N",
        "outputId": "b5fe77b6-8b55-4f37-db2b-4da12b76ddee"
      },
      "execution_count": null,
      "outputs": [
        {
          "output_type": "execute_result",
          "data": {
            "text/plain": [
              "(34422, 13)"
            ]
          },
          "metadata": {},
          "execution_count": 131
        }
      ]
    },
    {
      "cell_type": "code",
      "source": [
        "quant_ip_type_lg = [(0 if row == \"default\" else 1) for row in df_lg_clean[\"ip_type\"]]\n",
        "df_lg_clean[\"quant_ip_type\"] = quant_ip_type_lg"
      ],
      "metadata": {
        "id": "x7hoZWFvL40l"
      },
      "execution_count": null,
      "outputs": []
    },
    {
      "cell_type": "code",
      "source": [
        "df_lg = df_lg_clean\n",
        "df_lg = df_lg.drop([\"Unnamed: 0\", \"_id\", \"behavior\", \"behavior_type\", \"ip_type\", \"source\"], axis=1)"
      ],
      "metadata": {
        "id": "Vh5pyn5wMi-K"
      },
      "execution_count": null,
      "outputs": []
    },
    {
      "cell_type": "code",
      "source": [
        "df_lg.shape"
      ],
      "metadata": {
        "colab": {
          "base_uri": "https://localhost:8080/"
        },
        "id": "ZMowf4dfd4hF",
        "outputId": "de9d13c4-a2cb-4e09-f3d8-e932ce6c1184"
      },
      "execution_count": null,
      "outputs": [
        {
          "output_type": "execute_result",
          "data": {
            "text/plain": [
              "(34422, 8)"
            ]
          },
          "metadata": {},
          "execution_count": 134
        }
      ]
    },
    {
      "cell_type": "code",
      "source": [
        "df_lg.head(5)"
      ],
      "metadata": {
        "colab": {
          "base_uri": "https://localhost:8080/",
          "height": 270
        },
        "id": "f_9nvil5rRCg",
        "outputId": "3cb2953b-aee2-4dbb-f22e-a34ddaf97589"
      },
      "execution_count": null,
      "outputs": [
        {
          "output_type": "execute_result",
          "data": {
            "text/plain": [
              "   inter_api_access_duration(sec)  api_access_uniqueness  \\\n",
              "0                        7.010387               0.419355   \n",
              "1                       51.419393               0.252336   \n",
              "2                       25.860775               0.275000   \n",
              "3                        0.205909               0.818182   \n",
              "4                        0.122125               0.812500   \n",
              "\n",
              "   sequence_length(count)  vsession_duration(min)  num_sessions  num_users  \\\n",
              "0                    31.0                   13040           1.0        1.0   \n",
              "1                   107.0                  330113           1.0        1.0   \n",
              "2                    40.0                   62066           1.0        1.0   \n",
              "3                    11.0                     136           1.0        1.0   \n",
              "4                    16.0                     118           1.0        1.0   \n",
              "\n",
              "   num_unique_apis  quant_ip_type  \n",
              "0             13.0              0  \n",
              "1             27.0              0  \n",
              "2             11.0              0  \n",
              "3              9.0              0  \n",
              "4             13.0              0  "
            ],
            "text/html": [
              "\n",
              "  <div id=\"df-59bcb09a-fd75-4897-9476-f6c2ebef52fe\">\n",
              "    <div class=\"colab-df-container\">\n",
              "      <div>\n",
              "<style scoped>\n",
              "    .dataframe tbody tr th:only-of-type {\n",
              "        vertical-align: middle;\n",
              "    }\n",
              "\n",
              "    .dataframe tbody tr th {\n",
              "        vertical-align: top;\n",
              "    }\n",
              "\n",
              "    .dataframe thead th {\n",
              "        text-align: right;\n",
              "    }\n",
              "</style>\n",
              "<table border=\"1\" class=\"dataframe\">\n",
              "  <thead>\n",
              "    <tr style=\"text-align: right;\">\n",
              "      <th></th>\n",
              "      <th>inter_api_access_duration(sec)</th>\n",
              "      <th>api_access_uniqueness</th>\n",
              "      <th>sequence_length(count)</th>\n",
              "      <th>vsession_duration(min)</th>\n",
              "      <th>num_sessions</th>\n",
              "      <th>num_users</th>\n",
              "      <th>num_unique_apis</th>\n",
              "      <th>quant_ip_type</th>\n",
              "    </tr>\n",
              "  </thead>\n",
              "  <tbody>\n",
              "    <tr>\n",
              "      <th>0</th>\n",
              "      <td>7.010387</td>\n",
              "      <td>0.419355</td>\n",
              "      <td>31.0</td>\n",
              "      <td>13040</td>\n",
              "      <td>1.0</td>\n",
              "      <td>1.0</td>\n",
              "      <td>13.0</td>\n",
              "      <td>0</td>\n",
              "    </tr>\n",
              "    <tr>\n",
              "      <th>1</th>\n",
              "      <td>51.419393</td>\n",
              "      <td>0.252336</td>\n",
              "      <td>107.0</td>\n",
              "      <td>330113</td>\n",
              "      <td>1.0</td>\n",
              "      <td>1.0</td>\n",
              "      <td>27.0</td>\n",
              "      <td>0</td>\n",
              "    </tr>\n",
              "    <tr>\n",
              "      <th>2</th>\n",
              "      <td>25.860775</td>\n",
              "      <td>0.275000</td>\n",
              "      <td>40.0</td>\n",
              "      <td>62066</td>\n",
              "      <td>1.0</td>\n",
              "      <td>1.0</td>\n",
              "      <td>11.0</td>\n",
              "      <td>0</td>\n",
              "    </tr>\n",
              "    <tr>\n",
              "      <th>3</th>\n",
              "      <td>0.205909</td>\n",
              "      <td>0.818182</td>\n",
              "      <td>11.0</td>\n",
              "      <td>136</td>\n",
              "      <td>1.0</td>\n",
              "      <td>1.0</td>\n",
              "      <td>9.0</td>\n",
              "      <td>0</td>\n",
              "    </tr>\n",
              "    <tr>\n",
              "      <th>4</th>\n",
              "      <td>0.122125</td>\n",
              "      <td>0.812500</td>\n",
              "      <td>16.0</td>\n",
              "      <td>118</td>\n",
              "      <td>1.0</td>\n",
              "      <td>1.0</td>\n",
              "      <td>13.0</td>\n",
              "      <td>0</td>\n",
              "    </tr>\n",
              "  </tbody>\n",
              "</table>\n",
              "</div>\n",
              "      <button class=\"colab-df-convert\" onclick=\"convertToInteractive('df-59bcb09a-fd75-4897-9476-f6c2ebef52fe')\"\n",
              "              title=\"Convert this dataframe to an interactive table.\"\n",
              "              style=\"display:none;\">\n",
              "        \n",
              "  <svg xmlns=\"http://www.w3.org/2000/svg\" height=\"24px\"viewBox=\"0 0 24 24\"\n",
              "       width=\"24px\">\n",
              "    <path d=\"M0 0h24v24H0V0z\" fill=\"none\"/>\n",
              "    <path d=\"M18.56 5.44l.94 2.06.94-2.06 2.06-.94-2.06-.94-.94-2.06-.94 2.06-2.06.94zm-11 1L8.5 8.5l.94-2.06 2.06-.94-2.06-.94L8.5 2.5l-.94 2.06-2.06.94zm10 10l.94 2.06.94-2.06 2.06-.94-2.06-.94-.94-2.06-.94 2.06-2.06.94z\"/><path d=\"M17.41 7.96l-1.37-1.37c-.4-.4-.92-.59-1.43-.59-.52 0-1.04.2-1.43.59L10.3 9.45l-7.72 7.72c-.78.78-.78 2.05 0 2.83L4 21.41c.39.39.9.59 1.41.59.51 0 1.02-.2 1.41-.59l7.78-7.78 2.81-2.81c.8-.78.8-2.07 0-2.86zM5.41 20L4 18.59l7.72-7.72 1.47 1.35L5.41 20z\"/>\n",
              "  </svg>\n",
              "      </button>\n",
              "      \n",
              "  <style>\n",
              "    .colab-df-container {\n",
              "      display:flex;\n",
              "      flex-wrap:wrap;\n",
              "      gap: 12px;\n",
              "    }\n",
              "\n",
              "    .colab-df-convert {\n",
              "      background-color: #E8F0FE;\n",
              "      border: none;\n",
              "      border-radius: 50%;\n",
              "      cursor: pointer;\n",
              "      display: none;\n",
              "      fill: #1967D2;\n",
              "      height: 32px;\n",
              "      padding: 0 0 0 0;\n",
              "      width: 32px;\n",
              "    }\n",
              "\n",
              "    .colab-df-convert:hover {\n",
              "      background-color: #E2EBFA;\n",
              "      box-shadow: 0px 1px 2px rgba(60, 64, 67, 0.3), 0px 1px 3px 1px rgba(60, 64, 67, 0.15);\n",
              "      fill: #174EA6;\n",
              "    }\n",
              "\n",
              "    [theme=dark] .colab-df-convert {\n",
              "      background-color: #3B4455;\n",
              "      fill: #D2E3FC;\n",
              "    }\n",
              "\n",
              "    [theme=dark] .colab-df-convert:hover {\n",
              "      background-color: #434B5C;\n",
              "      box-shadow: 0px 1px 3px 1px rgba(0, 0, 0, 0.15);\n",
              "      filter: drop-shadow(0px 1px 2px rgba(0, 0, 0, 0.3));\n",
              "      fill: #FFFFFF;\n",
              "    }\n",
              "  </style>\n",
              "\n",
              "      <script>\n",
              "        const buttonEl =\n",
              "          document.querySelector('#df-59bcb09a-fd75-4897-9476-f6c2ebef52fe button.colab-df-convert');\n",
              "        buttonEl.style.display =\n",
              "          google.colab.kernel.accessAllowed ? 'block' : 'none';\n",
              "\n",
              "        async function convertToInteractive(key) {\n",
              "          const element = document.querySelector('#df-59bcb09a-fd75-4897-9476-f6c2ebef52fe');\n",
              "          const dataTable =\n",
              "            await google.colab.kernel.invokeFunction('convertToInteractive',\n",
              "                                                     [key], {});\n",
              "          if (!dataTable) return;\n",
              "\n",
              "          const docLinkHtml = 'Like what you see? Visit the ' +\n",
              "            '<a target=\"_blank\" href=https://colab.research.google.com/notebooks/data_table.ipynb>data table notebook</a>'\n",
              "            + ' to learn more about interactive tables.';\n",
              "          element.innerHTML = '';\n",
              "          dataTable['output_type'] = 'display_data';\n",
              "          await google.colab.output.renderOutput(dataTable, element);\n",
              "          const docLink = document.createElement('div');\n",
              "          docLink.innerHTML = docLinkHtml;\n",
              "          element.appendChild(docLink);\n",
              "        }\n",
              "      </script>\n",
              "    </div>\n",
              "  </div>\n",
              "  "
            ]
          },
          "metadata": {},
          "execution_count": 135
        }
      ]
    },
    {
      "cell_type": "code",
      "source": [
        "X_raw_lg = df_lg.to_numpy()"
      ],
      "metadata": {
        "id": "xiQedTijNFoq"
      },
      "execution_count": null,
      "outputs": []
    },
    {
      "cell_type": "markdown",
      "source": [
        "\n",
        "\n",
        "---\n",
        "\n",
        "\n",
        "Let's see what the distributions for each feature look like in this dataset"
      ],
      "metadata": {
        "id": "x_6ALiIKqqNI"
      }
    },
    {
      "cell_type": "code",
      "source": [
        "for i in range(X_raw_lg.shape[1]):\n",
        "  plt.hist(X_raw_lg[:,i], bins=100)\n",
        "  plt.show()\n"
      ],
      "metadata": {
        "colab": {
          "base_uri": "https://localhost:8080/",
          "height": 1000
        },
        "id": "NW2mdCW6tIjn",
        "outputId": "7ea1413c-92be-4579-9f96-be6f749902ec"
      },
      "execution_count": null,
      "outputs": [
        {
          "output_type": "display_data",
          "data": {
            "text/plain": [
              "<Figure size 432x288 with 1 Axes>"
            ],
            "image/png": "[encoded data removed]"
          },
          "metadata": {
            "needs_background": "light"
          }
        },
        {
          "output_type": "display_data",
          "data": {
            "text/plain": [
              "<Figure size 432x288 with 1 Axes>"
            ],
            "image/png": "[encoded data removed]"
          },
          "metadata": {
            "needs_background": "light"
          }
        },
        {
          "output_type": "display_data",
          "data": {
            "text/plain": [
              "<Figure size 432x288 with 1 Axes>"
            ],
            "image/png": "[encoded data removed]"
          },
          "metadata": {
            "needs_background": "light"
          }
        },
        {
          "output_type": "display_data",
          "data": {
            "text/plain": [
              "<Figure size 432x288 with 1 Axes>"
            ],
            "image/png": "[encoded data removed]"
          },
          "metadata": {
            "needs_background": "light"
          }
        },
        {
          "output_type": "display_data",
          "data": {
            "text/plain": [
              "<Figure size 432x288 with 1 Axes>"
            ],
            "image/png": "[encoded data removed]"
          },
          "metadata": {
            "needs_background": "light"
          }
        },
        {
          "output_type": "display_data",
          "data": {
            "text/plain": [
              "<Figure size 432x288 with 1 Axes>"
            ],
            "image/png": "[encoded data removed]"
          },
          "metadata": {
            "needs_background": "light"
          }
        },
        {
          "output_type": "display_data",
          "data": {
            "text/plain": [
              "<Figure size 432x288 with 1 Axes>"
            ],
            "image/png": "[encoded data removed]"
          },
          "metadata": {
            "needs_background": "light"
          }
        },
        {
          "output_type": "display_data",
          "data": {
            "text/plain": [
              "<Figure size 432x288 with 1 Axes>"
            ],
            "image/png": "[encoded data removed]"
          },
          "metadata": {
            "needs_background": "light"
          }
        }
      ]
    },
    {
      "cell_type": "markdown",
      "source": [
        "These features are heavily skewed as well. Let's transform the distributions with a log function"
      ],
      "metadata": {
        "id": "B31sJWuIqz6a"
      }
    },
    {
      "cell_type": "code",
      "source": [
        "# Again, we'll take the log of the first 7 features as the last one is binary\n",
        "X_log_lg = X_raw_lg\n",
        "for i in range(7):\n",
        "  X_log_lg[:,i] = np.log(X_raw_lg[:,i] + 0.00000001)"
      ],
      "metadata": {
        "id": "t_KtuQwVtIyd"
      },
      "execution_count": null,
      "outputs": []
    },
    {
      "cell_type": "code",
      "source": [
        "for i in range(X_log_lg.shape[1]):\n",
        "  plt.hist(X_log_lg[:,i], bins=100)\n",
        "  plt.show()"
      ],
      "metadata": {
        "colab": {
          "base_uri": "https://localhost:8080/",
          "height": 1000
        },
        "id": "3pogHGuo299H",
        "outputId": "b6b785ea-b4e5-49de-b6a3-647517cfe6b2"
      },
      "execution_count": null,
      "outputs": [
        {
          "output_type": "display_data",
          "data": {
            "text/plain": [
              "<Figure size 432x288 with 1 Axes>"
            ],
            "image/png": "[encoded data removed]"
          },
          "metadata": {
            "needs_background": "light"
          }
        },
        {
          "output_type": "display_data",
          "data": {
            "text/plain": [
              "<Figure size 432x288 with 1 Axes>"
            ],
            "image/png": "[encoded data removed]"
          },
          "metadata": {
            "needs_background": "light"
          }
        },
        {
          "output_type": "display_data",
          "data": {
            "text/plain": [
              "<Figure size 432x288 with 1 Axes>"
            ],
            "image/png": "[encoded data removed]"
          },
          "metadata": {
            "needs_background": "light"
          }
        },
        {
          "output_type": "display_data",
          "data": {
            "text/plain": [
              "<Figure size 432x288 with 1 Axes>"
            ],
            "image/png": "[encoded data removed]"
          },
          "metadata": {
            "needs_background": "light"
          }
        },
        {
          "output_type": "display_data",
          "data": {
            "text/plain": [
              "<Figure size 432x288 with 1 Axes>"
            ],
            "image/png": "[encoded data removed]"
          },
          "metadata": {
            "needs_background": "light"
          }
        },
        {
          "output_type": "display_data",
          "data": {
            "text/plain": [
              "<Figure size 432x288 with 1 Axes>"
            ],
            "image/png": "[encoded data removed]"
          },
          "metadata": {
            "needs_background": "light"
          }
        },
        {
          "output_type": "display_data",
          "data": {
            "text/plain": [
              "<Figure size 432x288 with 1 Axes>"
            ],
            "image/png": "[encoded data removed]"
          },
          "metadata": {
            "needs_background": "light"
          }
        },
        {
          "output_type": "display_data",
          "data": {
            "text/plain": [
              "<Figure size 432x288 with 1 Axes>"
            ],
            "image/png": "[encoded data removed]"
          },
          "metadata": {
            "needs_background": "light"
          }
        }
      ]
    },
    {
      "cell_type": "markdown",
      "source": [
        "These distribution looks much better! Let's normalize the values and see how they perform with the model below"
      ],
      "metadata": {
        "id": "F-asyk_lrFqM"
      }
    },
    {
      "cell_type": "markdown",
      "source": [
        "\n",
        "\n",
        "---\n",
        "\n"
      ],
      "metadata": {
        "id": "hY41xQkhrTG3"
      }
    },
    {
      "cell_type": "code",
      "source": [
        "X_log_z_lg = stats.zscore(X_log_lg, axis=0)\n",
        "X_log_z_lg[1:3,:]"
      ],
      "metadata": {
        "id": "aQINAIsENSvi",
        "colab": {
          "base_uri": "https://localhost:8080/"
        },
        "outputId": "23ae00b8-4fc4-4875-9e77-ac22a8c5eab6"
      },
      "execution_count": null,
      "outputs": [
        {
          "output_type": "execute_result",
          "data": {
            "text/plain": [
              "array([[ 1.20582608, -0.20623597,  1.14836005,  1.54496218, -0.66679172,\n",
              "        -0.51139441,  1.0301832 , -0.21515855],\n",
              "       [ 0.97367931, -0.12158278,  0.47325321,  1.00178364, -0.66679172,\n",
              "        -0.51139441,  0.10180553, -0.21515855]])"
            ]
          },
          "metadata": {},
          "execution_count": 147
        }
      ]
    },
    {
      "cell_type": "code",
      "source": [
        "# Optional step to create a random subset from entire population\n",
        "# X_train_lg, _ = train_test_split(X_log_z_lg,test_size=0.1, random_state=1)\n",
        "# print(\"X_train_lg.shape\", X_train_lg.shape)"
      ],
      "metadata": {
        "colab": {
          "base_uri": "https://localhost:8080/"
        },
        "id": "TLAEP1GOePLT",
        "outputId": "23d104e6-b443-4a63-b6dd-32ae4c4afea0"
      },
      "execution_count": null,
      "outputs": [
        {
          "output_type": "stream",
          "name": "stdout",
          "text": [
            "X_train_lg.shape (30979, 8)\n"
          ]
        }
      ]
    },
    {
      "cell_type": "code",
      "source": [
        "# Estimate the Gaussian parameters for large dataset\n",
        "mu_lg, var_lg = estimate_gaussian(X_log_z_lg)    \n",
        "\n",
        "# Evaluate the probabilites for the training set\n",
        "p_lg = calc_multivariate_gaussian(X_train_1, mu_lg, var_lg)\n",
        "\n",
        "# Evaluate the probabilites for the validation set\n",
        "p_val_lg = calc_multivariate_gaussian(X_val, mu_lg, var_lg)\n",
        "\n",
        "\n",
        "# Find the best threshold\n",
        "epsilon_lg, F1_lg, tp_lg, fp_lg, fn_lg  = select_threshold(y_val, p_val_lg)\n",
        "anomalies_lg = sum(p_val_lg < epsilon_lg)\n",
        "print('Best epsilon found using cross-validation: %e'% epsilon_lg)\n",
        "print('Best F1 on Cross Validation Set:  %f'% F1_lg)\n",
        "print('Model Reported Anomalies: %d'% anomalies_lg)\n",
        "actual_anomalies_lg = np.count_nonzero(y_val == 1)\n",
        "print(f\"Actual Number of Anomalies: {actual_anomalies_lg}\")"
      ],
      "metadata": {
        "colab": {
          "base_uri": "https://localhost:8080/"
        },
        "id": "ItYBkjxBN3sJ",
        "outputId": "1415cdf0-ed3c-452d-d0f3-eae3c0f80e55"
      },
      "execution_count": null,
      "outputs": [
        {
          "output_type": "stream",
          "name": "stdout",
          "text": [
            "Best epsilon found using cross-validation: 1.007867e-05\n",
            "Best F1 on Cross Validation Set:  0.811475\n",
            "Model Reported Anomalies: 264\n",
            "Actual Number of Anomalies: 224\n"
          ]
        }
      ]
    },
    {
      "cell_type": "code",
      "source": [
        "print(\"Cross Validation Sample Results\")\n",
        "print(f\"True positives = {tp_lg}\")\n",
        "print(f\"False positives = {fp_lg}\")\n",
        "print(f\"False negatives = {fn_lg}\")"
      ],
      "metadata": {
        "colab": {
          "base_uri": "https://localhost:8080/"
        },
        "id": "zS13SRJFaO4d",
        "outputId": "ab4faba6-500f-4b61-ae36-fc7f2372c379"
      },
      "execution_count": null,
      "outputs": [
        {
          "output_type": "stream",
          "name": "stdout",
          "text": [
            "Cross Validation Sample Results\n",
            "True positives = 198\n",
            "False positives = 66\n",
            "False negatives = 26\n"
          ]
        }
      ]
    },
    {
      "cell_type": "code",
      "source": [
        "print(\"Smaller Training Dataset\")\n",
        "print(f\"Anomalies Detected: {anomalies}\")\n",
        "print(f\"F1 Score: {F1}\")\n",
        "print(\"\\n\")\n",
        "print(\"Larger Training Dataset\")\n",
        "print(f\"Anomalies Detected: {anomalies_lg}\")\n",
        "print(f\"F1 Score: {F1_lg}\")"
      ],
      "metadata": {
        "colab": {
          "base_uri": "https://localhost:8080/"
        },
        "id": "tLY0WHTsPXzU",
        "outputId": "c40a755c-9c32-4662-8528-b8d8fc80af30"
      },
      "execution_count": null,
      "outputs": [
        {
          "output_type": "stream",
          "name": "stdout",
          "text": [
            "Smaller Training Dataset\n",
            "Anomalies Detected: 267\n",
            "F1 Score: 0.8024439918533605\n",
            "\n",
            "\n",
            "Larger Training Dataset\n",
            "Anomalies Detected: 264\n",
            "F1 Score: 0.8114754098360656\n"
          ]
        }
      ]
    },
    {
      "cell_type": "code",
      "source": [
        "print(\"Smaller Training Dataset Validation Results:\")\n",
        "print(f\"True positives = {tp}\")\n",
        "print(f\"False positives = {fp}\")\n",
        "print(f\"False negatives = {fn}\")\n",
        "print(\"\\n\")\n",
        "print(\"Larger Training Dataset Validation Results:\")\n",
        "print(f\"True positives = {tp_lg}\")\n",
        "print(f\"False positives = {fp_lg}\")\n",
        "print(f\"False negatives = {fn_lg}\")"
      ],
      "metadata": {
        "colab": {
          "base_uri": "https://localhost:8080/"
        },
        "id": "T4c6hB13WX_Y",
        "outputId": "9c44bbec-989e-4da8-e74d-cafb457def2c"
      },
      "execution_count": null,
      "outputs": [
        {
          "output_type": "stream",
          "name": "stdout",
          "text": [
            "Smaller Training Dataset Validation Results:\n",
            "True positives = 197\n",
            "False positives = 70\n",
            "False negatives = 27\n",
            "\n",
            "\n",
            "Larger Training Dataset Validation Results:\n",
            "True positives = 198\n",
            "False positives = 66\n",
            "False negatives = 26\n"
          ]
        }
      ]
    },
    {
      "cell_type": "markdown",
      "source": [
        "\n",
        "\n",
        "---\n",
        "\n"
      ],
      "metadata": {
        "id": "Gbss3DIfsovA"
      }
    },
    {
      "cell_type": "markdown",
      "source": [
        "Suprisingly, even with a much larger dataset, the gaussian model made only an incredibly small improvement. While we could investigate transforming the distributions further, or conduct feature engineering to look for better anomaly indicators, let's see if there isn't a better type of unsupervised learning model that more appropriately fits this dataset."
      ],
      "metadata": {
        "id": "Sxu_AZ6esGNo"
      }
    },
    {
      "cell_type": "markdown",
      "source": [
        "\n",
        "\n",
        "---\n",
        "\n"
      ],
      "metadata": {
        "id": "B4YabX_6sqCW"
      }
    },
    {
      "cell_type": "markdown",
      "source": [
        "Investigate K-Means Clustering"
      ],
      "metadata": {
        "id": "-3I2uWsfvbPe"
      }
    },
    {
      "cell_type": "markdown",
      "source": [
        "Let's see how an unsupervised clustering model performs on the same dataset"
      ],
      "metadata": {
        "id": "_x5Hm-QYtGPZ"
      }
    },
    {
      "cell_type": "code",
      "source": [
        "# Computes the centroid memberships for every example\n",
        "\n",
        "def find_closest_centroids(X, centroids):\n",
        "    K = centroids.shape[0]\n",
        "    idx = np.zeros(X.shape[0], dtype=int)\n",
        "\n",
        "    for i in range(0, len(idx)):\n",
        "        distances = []\n",
        "        for k in range(0, K):\n",
        "            d_ik = (X[i] - centroids[k])**2\n",
        "            sum = 0.0\n",
        "            for p in d_ik:\n",
        "                sum += p\n",
        "            distances.append(sum)\n",
        "        min_dist = min(distances)\n",
        "        k_index = distances.index(min_dist)\n",
        "        idx[i] = k_index\n",
        "\n",
        "    \n",
        "    return idx"
      ],
      "metadata": {
        "id": "a7RW11-HvwMI"
      },
      "execution_count": null,
      "outputs": []
    },
    {
      "cell_type": "code",
      "source": [
        "# Returns the new centroids by computing the means of the data points assigned to each centroid.\n",
        "\n",
        "def compute_centroids(X, idx, K):\n",
        "    m, n = X.shape\n",
        "    centroids = np.zeros((K, n))\n",
        "\n",
        "    # Gets the count of items in each centroid \n",
        "    centroid_count = np.zeros((K,))\n",
        "    centroid_index_list = []\n",
        "    # Makes a list of centroid indexes for next step (allows for easier loop check)\n",
        "    for i in range(K):\n",
        "        centroid_index_list.append(i)\n",
        "    \n",
        "    # Calculate total number of items associated with each centroid\n",
        "    for i in range(m):\n",
        "        k_index = idx[i]\n",
        "        if k_index in centroid_index_list:\n",
        "            centroid_count[k_index] += 1\n",
        "\n",
        "    # Loops through all of the data points/items        \n",
        "    for i in range(m):\n",
        "        k_index = idx[i]\n",
        "        for j in range(n):\n",
        "            # To avoid a second set for loops, divide by average at each item in summation\n",
        "            averaged_sum = X[i][j] / centroid_count[k_index]\n",
        "            centroids[k_index][j] += averaged_sum\n",
        "\n",
        "    return centroids"
      ],
      "metadata": {
        "id": "VndHS6z7vi3m"
      },
      "execution_count": null,
      "outputs": []
    },
    {
      "cell_type": "code",
      "source": [
        "# This function initializes K centroids that are to be used in K-Means on the dataset X\n",
        "\n",
        "def kMeans_init_centroids(X, K):\n",
        "    # Randomly reorder the indices of examples\n",
        "    randidx = np.random.permutation(X.shape[0])\n",
        "    \n",
        "    # Take the first K examples as centroids\n",
        "    centroids = X[randidx[:K]]\n",
        "    \n",
        "    return centroids"
      ],
      "metadata": {
        "id": "-ApqfQogvag4"
      },
      "execution_count": null,
      "outputs": []
    },
    {
      "cell_type": "code",
      "source": [
        "# Runs the K-Means algorithm on data matrix X, where each row of X is a single example\n",
        "\n",
        "def run_kMeans(X, initial_centroids, max_iters=10):\n",
        "\n",
        "    # Initialize values\n",
        "    m, n = X.shape\n",
        "    K = initial_centroids.shape[0]\n",
        "    centroids = initial_centroids\n",
        "    previous_centroids = centroids    \n",
        "    idx = np.zeros(m)\n",
        "    \n",
        "    # Run K-Means\n",
        "    for i in range(max_iters):\n",
        "        \n",
        "        #Output progress\n",
        "        print(\"K-Means iteration %d/%d\" % (i, max_iters-1))\n",
        "        \n",
        "        # For each example in X, assign it to the closest centroid\n",
        "        idx = find_closest_centroids(X, centroids)\n",
        "            \n",
        "        # Given the memberships, compute new centroids\n",
        "        centroids = compute_centroids(X, idx, K)\n",
        "\n",
        "    # plt.show() \n",
        "    return centroids, idx"
      ],
      "metadata": {
        "id": "JAhJI9Zivdw-"
      },
      "execution_count": null,
      "outputs": []
    },
    {
      "cell_type": "code",
      "source": [
        "K = 2                       \n",
        "max_iters = 30               \n",
        "\n",
        "# Get initial cluster locations\n",
        "initial_centroids = kMeans_init_centroids(X_train_1, K) \n",
        "\n",
        "# Run K-Means on original(smaller) training set\n",
        "centroids, idx = run_kMeans(X_train_1, initial_centroids, max_iters) "
      ],
      "metadata": {
        "colab": {
          "base_uri": "https://localhost:8080/"
        },
        "id": "PdyRHbB2vaZI",
        "outputId": "399c16dd-ccf0-4e3e-e060-ea8bc595e37e"
      },
      "execution_count": null,
      "outputs": [
        {
          "output_type": "stream",
          "name": "stdout",
          "text": [
            "K-Means iteration 0/29\n",
            "K-Means iteration 1/29\n",
            "K-Means iteration 2/29\n",
            "K-Means iteration 3/29\n",
            "K-Means iteration 4/29\n",
            "K-Means iteration 5/29\n",
            "K-Means iteration 6/29\n",
            "K-Means iteration 7/29\n",
            "K-Means iteration 8/29\n",
            "K-Means iteration 9/29\n",
            "K-Means iteration 10/29\n",
            "K-Means iteration 11/29\n",
            "K-Means iteration 12/29\n",
            "K-Means iteration 13/29\n",
            "K-Means iteration 14/29\n",
            "K-Means iteration 15/29\n",
            "K-Means iteration 16/29\n",
            "K-Means iteration 17/29\n",
            "K-Means iteration 18/29\n",
            "K-Means iteration 19/29\n",
            "K-Means iteration 20/29\n",
            "K-Means iteration 21/29\n",
            "K-Means iteration 22/29\n",
            "K-Means iteration 23/29\n",
            "K-Means iteration 24/29\n",
            "K-Means iteration 25/29\n",
            "K-Means iteration 26/29\n",
            "K-Means iteration 27/29\n",
            "K-Means iteration 28/29\n",
            "K-Means iteration 29/29\n"
          ]
        }
      ]
    },
    {
      "cell_type": "code",
      "source": [
        "idx.shape"
      ],
      "metadata": {
        "colab": {
          "base_uri": "https://localhost:8080/"
        },
        "id": "Yys3syEXykQM",
        "outputId": "8826b5f3-8e57-4338-9a75-f3a63494aa16"
      },
      "execution_count": null,
      "outputs": [
        {
          "output_type": "execute_result",
          "data": {
            "text/plain": [
              "(1017,)"
            ]
          },
          "metadata": {},
          "execution_count": 243
        }
      ]
    },
    {
      "cell_type": "markdown",
      "source": [
        "So now we have the model's clusters, lets look at how well they did capturing the outliers. Note that below matches the cluster id (0 or 1) to the target classification (0 or 1), however the cluster id '0' does not necessarily mean 'normal' and vice verse for the cluster id '1'. This means that if you run the kmeans model multiple times, the below results may 'flip' depending on which cluster id is linked to the outliers (1)"
      ],
      "metadata": {
        "id": "NhQi54EFuCCp"
      }
    },
    {
      "cell_type": "code",
      "source": [
        "err = calc_cat_err(y_train_1, idx)\n",
        "print(f\"Classification error: {err:0.5f}\")\n",
        "print(f\"Percent error: {err*100:0.2f}%\")"
      ],
      "metadata": {
        "colab": {
          "base_uri": "https://localhost:8080/"
        },
        "id": "mPjYTjfxzMFr",
        "outputId": "1629c4a8-c26f-47b7-a973-036c39fe97c3"
      },
      "execution_count": null,
      "outputs": [
        {
          "output_type": "stream",
          "name": "stdout",
          "text": [
            "\n",
            "\n",
            "\n",
            "Number of incorrect predictions: 3\n",
            "Correct predictions: 1014 out of 1017\n",
            "\n",
            "Classification error: 0.00295\n",
            "Percent error: 0.29%\n"
          ]
        }
      ]
    },
    {
      "cell_type": "markdown",
      "source": [
        "The unsupervised clustering model did an excellent job on the training set! Let's check how it would classify data from the validation set to make sure the model isn't overfitted."
      ],
      "metadata": {
        "id": "PaDECygku08C"
      }
    },
    {
      "cell_type": "code",
      "source": [
        "idx_val = find_closest_centroids(X_val, centroids)"
      ],
      "metadata": {
        "id": "jiSd1NqSEWcg"
      },
      "execution_count": null,
      "outputs": []
    },
    {
      "cell_type": "code",
      "source": [
        "idx_val.shape"
      ],
      "metadata": {
        "colab": {
          "base_uri": "https://localhost:8080/"
        },
        "id": "B8-QhBXyEfMC",
        "outputId": "043d14a3-6175-47a4-b4eb-17ab882f5b6a"
      },
      "execution_count": null,
      "outputs": [
        {
          "output_type": "execute_result",
          "data": {
            "text/plain": [
              "(678,)"
            ]
          },
          "metadata": {},
          "execution_count": 253
        }
      ]
    },
    {
      "cell_type": "code",
      "source": [
        "err = calc_cat_err(y_val, idx_val)\n",
        "print(f\"Classification error: {err:0.5f}\")\n",
        "print(f\"Percent error: {err*100:0.2f}%\")"
      ],
      "metadata": {
        "colab": {
          "base_uri": "https://localhost:8080/"
        },
        "id": "3Y3U6orUEjDw",
        "outputId": "556a683e-5180-4acf-ed4c-38ca62f80d7a"
      },
      "execution_count": null,
      "outputs": [
        {
          "output_type": "stream",
          "name": "stdout",
          "text": [
            "\n",
            "\n",
            "\n",
            "Number of incorrect predictions: 4\n",
            "Correct predictions: 674 out of 678\n",
            "\n",
            "Classification error: 0.00590\n",
            "Percent error: 0.59%\n"
          ]
        }
      ]
    },
    {
      "cell_type": "markdown",
      "source": [
        "Excellent! This means the model is able to highly accurately detect anomalies! While not perfect like the supervised NN model above, this model obtain exceptionally high accuracy without any labelled data to train on. The skewed and highly reactive feature set made the gaussian model not a good choice, however it made for a very easy time for the supervised neural network and unsupervised k-means clustering to detect anomalies."
      ],
      "metadata": {
        "id": "PUDgLnTAvP9P"
      }
    }
  ]
}